{
 "cells": [
  {
   "cell_type": "code",
   "execution_count": 1,
   "metadata": {
    "collapsed": true,
    "ExecuteTime": {
     "end_time": "2024-03-20T14:40:01.015897600Z",
     "start_time": "2024-03-20T14:40:00.297273800Z"
    }
   },
   "outputs": [
    {
     "data": {
      "text/html": "    <style>\n        .bk-notebook-logo {\n            display: block;\n            width: 20px;\n            height: 20px;\n            background-image: url(data:image/png;base64,iVBORw0KGgoAAAANSUhEUgAAABQAAAAUCAYAAACNiR0NAAAABHNCSVQICAgIfAhkiAAAAAlwSFlzAAALEgAACxIB0t1+/AAAABx0RVh0U29mdHdhcmUAQWRvYmUgRmlyZXdvcmtzIENTNui8sowAAAOkSURBVDiNjZRtaJVlGMd/1/08zzln5zjP1LWcU9N0NkN8m2CYjpgQYQXqSs0I84OLIC0hkEKoPtiH3gmKoiJDU7QpLgoLjLIQCpEsNJ1vqUOdO7ppbuec5+V+rj4ctwzd8IIbbi6u+8f1539dt3A78eXC7QizUF7gyV1fD1Yqg4JWz84yffhm0qkFqBogB9rM8tZdtwVsPUhWhGcFJngGeWrPzHm5oaMmkfEg1usvLFyc8jLRqDOMru7AyC8saQr7GG7f5fvDeH7Ej8CM66nIF+8yngt6HWaKh7k49Soy9nXurCi1o3qUbS3zWfrYeQDTB/Qj6kX6Ybhw4B+bOYoLKCC9H3Nu/leUTZ1JdRWkkn2ldcCamzrcf47KKXdAJllSlxAOkRgyHsGC/zRday5Qld9DyoM4/q/rUoy/CXh3jzOu3bHUVZeU+DEn8FInkPBFlu3+nW3Nw0mk6vCDiWg8CeJaxEwuHS3+z5RgY+YBR6V1Z1nxSOfoaPa4LASWxxdNp+VWTk7+4vzaou8v8PN+xo+KY2xsw6une2frhw05CTYOmQvsEhjhWjn0bmXPjpE1+kplmmkP3suftwTubK9Vq22qKmrBhpY4jvd5afdRA3wGjFAgcnTK2s4hY0/GPNIb0nErGMCRxWOOX64Z8RAC4oCXdklmEvcL8o0BfkNK4lUg9HTl+oPlQxdNo3Mg4Nv175e/1LDGzZen30MEjRUtmXSfiTVu1kK8W4txyV6BMKlbgk3lMwYCiusNy9fVfvvwMxv8Ynl6vxoByANLTWplvuj/nF9m2+PDtt1eiHPBr1oIfhCChQMBw6Aw0UulqTKZdfVvfG7VcfIqLG9bcldL/+pdWTLxLUy8Qq38heUIjh4XlzZxzQm19lLFlr8vdQ97rjZVOLf8nclzckbcD4wxXMidpX30sFd37Fv/GtwwhzhxGVAprjbg0gCAEeIgwCZyTV2Z1REEW8O4py0wsjeloKoMr6iCY6dP92H6Vw/oTyICIthibxjm/DfN9lVz8IqtqKYLUXfoKVMVQVVJOElGjrnnUt9T9wbgp8AyYKaGlqingHZU/uG2NTZSVqwHQTWkx9hxjkpWDaCg6Ckj5qebgBVbT3V3NNXMSiWSDdGV3hrtzla7J+duwPOToIg42ChPQOQjspnSlp1V+Gjdged7+8UN5CRAV7a5EdFNwCjEaBR27b3W890TE7g24NAP/mMDXRWrGoFPQI9ls/MWO2dWFAar/xcOIImbbpA3zgAAAABJRU5ErkJggg==);\n        }\n    </style>\n    <div>\n        <a href=\"https://bokeh.org\" target=\"_blank\" class=\"bk-notebook-logo\"></a>\n        <span id=\"d31d4695-3958-48e0-a98c-fd5e93cab6d9\">Loading BokehJS ...</span>\n    </div>\n"
     },
     "metadata": {},
     "output_type": "display_data"
    },
    {
     "data": {
      "application/javascript": "(function(root) {\n  function now() {\n    return new Date();\n  }\n\n  const force = true;\n\n  if (typeof root._bokeh_onload_callbacks === \"undefined\" || force === true) {\n    root._bokeh_onload_callbacks = [];\n    root._bokeh_is_loading = undefined;\n  }\n\nconst JS_MIME_TYPE = 'application/javascript';\n  const HTML_MIME_TYPE = 'text/html';\n  const EXEC_MIME_TYPE = 'application/vnd.bokehjs_exec.v0+json';\n  const CLASS_NAME = 'output_bokeh rendered_html';\n\n  /**\n   * Render data to the DOM node\n   */\n  function render(props, node) {\n    const script = document.createElement(\"script\");\n    node.appendChild(script);\n  }\n\n  /**\n   * Handle when an output is cleared or removed\n   */\n  function handleClearOutput(event, handle) {\n    function drop(id) {\n      const view = Bokeh.index.get_by_id(id)\n      if (view != null) {\n        view.model.document.clear()\n        Bokeh.index.delete(view)\n      }\n    }\n\n    const cell = handle.cell;\n\n    const id = cell.output_area._bokeh_element_id;\n    const server_id = cell.output_area._bokeh_server_id;\n\n    // Clean up Bokeh references\n    if (id != null) {\n      drop(id)\n    }\n\n    if (server_id !== undefined) {\n      // Clean up Bokeh references\n      const cmd_clean = \"from bokeh.io.state import curstate; print(curstate().uuid_to_server['\" + server_id + \"'].get_sessions()[0].document.roots[0]._id)\";\n      cell.notebook.kernel.execute(cmd_clean, {\n        iopub: {\n          output: function(msg) {\n            const id = msg.content.text.trim()\n            drop(id)\n          }\n        }\n      });\n      // Destroy server and session\n      const cmd_destroy = \"import bokeh.io.notebook as ion; ion.destroy_server('\" + server_id + \"')\";\n      cell.notebook.kernel.execute(cmd_destroy);\n    }\n  }\n\n  /**\n   * Handle when a new output is added\n   */\n  function handleAddOutput(event, handle) {\n    const output_area = handle.output_area;\n    const output = handle.output;\n\n    // limit handleAddOutput to display_data with EXEC_MIME_TYPE content only\n    if ((output.output_type != \"display_data\") || (!Object.prototype.hasOwnProperty.call(output.data, EXEC_MIME_TYPE))) {\n      return\n    }\n\n    const toinsert = output_area.element.find(\".\" + CLASS_NAME.split(' ')[0]);\n\n    if (output.metadata[EXEC_MIME_TYPE][\"id\"] !== undefined) {\n      toinsert[toinsert.length - 1].firstChild.textContent = output.data[JS_MIME_TYPE];\n      // store reference to embed id on output_area\n      output_area._bokeh_element_id = output.metadata[EXEC_MIME_TYPE][\"id\"];\n    }\n    if (output.metadata[EXEC_MIME_TYPE][\"server_id\"] !== undefined) {\n      const bk_div = document.createElement(\"div\");\n      bk_div.innerHTML = output.data[HTML_MIME_TYPE];\n      const script_attrs = bk_div.children[0].attributes;\n      for (let i = 0; i < script_attrs.length; i++) {\n        toinsert[toinsert.length - 1].firstChild.setAttribute(script_attrs[i].name, script_attrs[i].value);\n        toinsert[toinsert.length - 1].firstChild.textContent = bk_div.children[0].textContent\n      }\n      // store reference to server id on output_area\n      output_area._bokeh_server_id = output.metadata[EXEC_MIME_TYPE][\"server_id\"];\n    }\n  }\n\n  function register_renderer(events, OutputArea) {\n\n    function append_mime(data, metadata, element) {\n      // create a DOM node to render to\n      const toinsert = this.create_output_subarea(\n        metadata,\n        CLASS_NAME,\n        EXEC_MIME_TYPE\n      );\n      this.keyboard_manager.register_events(toinsert);\n      // Render to node\n      const props = {data: data, metadata: metadata[EXEC_MIME_TYPE]};\n      render(props, toinsert[toinsert.length - 1]);\n      element.append(toinsert);\n      return toinsert\n    }\n\n    /* Handle when an output is cleared or removed */\n    events.on('clear_output.CodeCell', handleClearOutput);\n    events.on('delete.Cell', handleClearOutput);\n\n    /* Handle when a new output is added */\n    events.on('output_added.OutputArea', handleAddOutput);\n\n    /**\n     * Register the mime type and append_mime function with output_area\n     */\n    OutputArea.prototype.register_mime_type(EXEC_MIME_TYPE, append_mime, {\n      /* Is output safe? */\n      safe: true,\n      /* Index of renderer in `output_area.display_order` */\n      index: 0\n    });\n  }\n\n  // register the mime type if in Jupyter Notebook environment and previously unregistered\n  if (root.Jupyter !== undefined) {\n    const events = require('base/js/events');\n    const OutputArea = require('notebook/js/outputarea').OutputArea;\n\n    if (OutputArea.prototype.mime_types().indexOf(EXEC_MIME_TYPE) == -1) {\n      register_renderer(events, OutputArea);\n    }\n  }\n  if (typeof (root._bokeh_timeout) === \"undefined\" || force === true) {\n    root._bokeh_timeout = Date.now() + 5000;\n    root._bokeh_failed_load = false;\n  }\n\n  const NB_LOAD_WARNING = {'data': {'text/html':\n     \"<div style='background-color: #fdd'>\\n\"+\n     \"<p>\\n\"+\n     \"BokehJS does not appear to have successfully loaded. If loading BokehJS from CDN, this \\n\"+\n     \"may be due to a slow or bad network connection. Possible fixes:\\n\"+\n     \"</p>\\n\"+\n     \"<ul>\\n\"+\n     \"<li>re-rerun `output_notebook()` to attempt to load from CDN again, or</li>\\n\"+\n     \"<li>use INLINE resources instead, as so:</li>\\n\"+\n     \"</ul>\\n\"+\n     \"<code>\\n\"+\n     \"from bokeh.resources import INLINE\\n\"+\n     \"output_notebook(resources=INLINE)\\n\"+\n     \"</code>\\n\"+\n     \"</div>\"}};\n\n  function display_loaded() {\n    const el = document.getElementById(\"d31d4695-3958-48e0-a98c-fd5e93cab6d9\");\n    if (el != null) {\n      el.textContent = \"BokehJS is loading...\";\n    }\n    if (root.Bokeh !== undefined) {\n      if (el != null) {\n        el.textContent = \"BokehJS \" + root.Bokeh.version + \" successfully loaded.\";\n      }\n    } else if (Date.now() < root._bokeh_timeout) {\n      setTimeout(display_loaded, 100)\n    }\n  }\n\n  function run_callbacks() {\n    try {\n      root._bokeh_onload_callbacks.forEach(function(callback) {\n        if (callback != null)\n          callback();\n      });\n    } finally {\n      delete root._bokeh_onload_callbacks\n    }\n    console.debug(\"Bokeh: all callbacks have finished\");\n  }\n\n  function load_libs(css_urls, js_urls, callback) {\n    if (css_urls == null) css_urls = [];\n    if (js_urls == null) js_urls = [];\n\n    root._bokeh_onload_callbacks.push(callback);\n    if (root._bokeh_is_loading > 0) {\n      console.debug(\"Bokeh: BokehJS is being loaded, scheduling callback at\", now());\n      return null;\n    }\n    if (js_urls == null || js_urls.length === 0) {\n      run_callbacks();\n      return null;\n    }\n    console.debug(\"Bokeh: BokehJS not loaded, scheduling load and callback at\", now());\n    root._bokeh_is_loading = css_urls.length + js_urls.length;\n\n    function on_load() {\n      root._bokeh_is_loading--;\n      if (root._bokeh_is_loading === 0) {\n        console.debug(\"Bokeh: all BokehJS libraries/stylesheets loaded\");\n        run_callbacks()\n      }\n    }\n\n    function on_error(url) {\n      console.error(\"failed to load \" + url);\n    }\n\n    for (let i = 0; i < css_urls.length; i++) {\n      const url = css_urls[i];\n      const element = document.createElement(\"link\");\n      element.onload = on_load;\n      element.onerror = on_error.bind(null, url);\n      element.rel = \"stylesheet\";\n      element.type = \"text/css\";\n      element.href = url;\n      console.debug(\"Bokeh: injecting link tag for BokehJS stylesheet: \", url);\n      document.body.appendChild(element);\n    }\n\n    for (let i = 0; i < js_urls.length; i++) {\n      const url = js_urls[i];\n      const element = document.createElement('script');\n      element.onload = on_load;\n      element.onerror = on_error.bind(null, url);\n      element.async = false;\n      element.src = url;\n      console.debug(\"Bokeh: injecting script tag for BokehJS library: \", url);\n      document.head.appendChild(element);\n    }\n  };\n\n  function inject_raw_css(css) {\n    const element = document.createElement(\"style\");\n    element.appendChild(document.createTextNode(css));\n    document.body.appendChild(element);\n  }\n\n  const js_urls = [\"https://cdn.bokeh.org/bokeh/release/bokeh-3.3.4.min.js\", \"https://cdn.bokeh.org/bokeh/release/bokeh-gl-3.3.4.min.js\", \"https://cdn.bokeh.org/bokeh/release/bokeh-widgets-3.3.4.min.js\", \"https://cdn.bokeh.org/bokeh/release/bokeh-tables-3.3.4.min.js\", \"https://cdn.bokeh.org/bokeh/release/bokeh-mathjax-3.3.4.min.js\"];\n  const css_urls = [];\n\n  const inline_js = [    function(Bokeh) {\n      Bokeh.set_log_level(\"info\");\n    },\nfunction(Bokeh) {\n    }\n  ];\n\n  function run_inline_js() {\n    if (root.Bokeh !== undefined || force === true) {\n          for (let i = 0; i < inline_js.length; i++) {\n      inline_js[i].call(root, root.Bokeh);\n    }\nif (force === true) {\n        display_loaded();\n      }} else if (Date.now() < root._bokeh_timeout) {\n      setTimeout(run_inline_js, 100);\n    } else if (!root._bokeh_failed_load) {\n      console.log(\"Bokeh: BokehJS failed to load within specified timeout.\");\n      root._bokeh_failed_load = true;\n    } else if (force !== true) {\n      const cell = $(document.getElementById(\"d31d4695-3958-48e0-a98c-fd5e93cab6d9\")).parents('.cell').data().cell;\n      cell.output_area.append_execute_result(NB_LOAD_WARNING)\n    }\n  }\n\n  if (root._bokeh_is_loading === 0) {\n    console.debug(\"Bokeh: BokehJS loaded, going straight to plotting\");\n    run_inline_js();\n  } else {\n    load_libs(css_urls, js_urls, function() {\n      console.debug(\"Bokeh: BokehJS plotting callback run at\", now());\n      run_inline_js();\n    });\n  }\n}(window));",
      "application/vnd.bokehjs_load.v0+json": "(function(root) {\n  function now() {\n    return new Date();\n  }\n\n  const force = true;\n\n  if (typeof root._bokeh_onload_callbacks === \"undefined\" || force === true) {\n    root._bokeh_onload_callbacks = [];\n    root._bokeh_is_loading = undefined;\n  }\n\n\n  if (typeof (root._bokeh_timeout) === \"undefined\" || force === true) {\n    root._bokeh_timeout = Date.now() + 5000;\n    root._bokeh_failed_load = false;\n  }\n\n  const NB_LOAD_WARNING = {'data': {'text/html':\n     \"<div style='background-color: #fdd'>\\n\"+\n     \"<p>\\n\"+\n     \"BokehJS does not appear to have successfully loaded. If loading BokehJS from CDN, this \\n\"+\n     \"may be due to a slow or bad network connection. Possible fixes:\\n\"+\n     \"</p>\\n\"+\n     \"<ul>\\n\"+\n     \"<li>re-rerun `output_notebook()` to attempt to load from CDN again, or</li>\\n\"+\n     \"<li>use INLINE resources instead, as so:</li>\\n\"+\n     \"</ul>\\n\"+\n     \"<code>\\n\"+\n     \"from bokeh.resources import INLINE\\n\"+\n     \"output_notebook(resources=INLINE)\\n\"+\n     \"</code>\\n\"+\n     \"</div>\"}};\n\n  function display_loaded() {\n    const el = document.getElementById(\"d31d4695-3958-48e0-a98c-fd5e93cab6d9\");\n    if (el != null) {\n      el.textContent = \"BokehJS is loading...\";\n    }\n    if (root.Bokeh !== undefined) {\n      if (el != null) {\n        el.textContent = \"BokehJS \" + root.Bokeh.version + \" successfully loaded.\";\n      }\n    } else if (Date.now() < root._bokeh_timeout) {\n      setTimeout(display_loaded, 100)\n    }\n  }\n\n  function run_callbacks() {\n    try {\n      root._bokeh_onload_callbacks.forEach(function(callback) {\n        if (callback != null)\n          callback();\n      });\n    } finally {\n      delete root._bokeh_onload_callbacks\n    }\n    console.debug(\"Bokeh: all callbacks have finished\");\n  }\n\n  function load_libs(css_urls, js_urls, callback) {\n    if (css_urls == null) css_urls = [];\n    if (js_urls == null) js_urls = [];\n\n    root._bokeh_onload_callbacks.push(callback);\n    if (root._bokeh_is_loading > 0) {\n      console.debug(\"Bokeh: BokehJS is being loaded, scheduling callback at\", now());\n      return null;\n    }\n    if (js_urls == null || js_urls.length === 0) {\n      run_callbacks();\n      return null;\n    }\n    console.debug(\"Bokeh: BokehJS not loaded, scheduling load and callback at\", now());\n    root._bokeh_is_loading = css_urls.length + js_urls.length;\n\n    function on_load() {\n      root._bokeh_is_loading--;\n      if (root._bokeh_is_loading === 0) {\n        console.debug(\"Bokeh: all BokehJS libraries/stylesheets loaded\");\n        run_callbacks()\n      }\n    }\n\n    function on_error(url) {\n      console.error(\"failed to load \" + url);\n    }\n\n    for (let i = 0; i < css_urls.length; i++) {\n      const url = css_urls[i];\n      const element = document.createElement(\"link\");\n      element.onload = on_load;\n      element.onerror = on_error.bind(null, url);\n      element.rel = \"stylesheet\";\n      element.type = \"text/css\";\n      element.href = url;\n      console.debug(\"Bokeh: injecting link tag for BokehJS stylesheet: \", url);\n      document.body.appendChild(element);\n    }\n\n    for (let i = 0; i < js_urls.length; i++) {\n      const url = js_urls[i];\n      const element = document.createElement('script');\n      element.onload = on_load;\n      element.onerror = on_error.bind(null, url);\n      element.async = false;\n      element.src = url;\n      console.debug(\"Bokeh: injecting script tag for BokehJS library: \", url);\n      document.head.appendChild(element);\n    }\n  };\n\n  function inject_raw_css(css) {\n    const element = document.createElement(\"style\");\n    element.appendChild(document.createTextNode(css));\n    document.body.appendChild(element);\n  }\n\n  const js_urls = [\"https://cdn.bokeh.org/bokeh/release/bokeh-3.3.4.min.js\", \"https://cdn.bokeh.org/bokeh/release/bokeh-gl-3.3.4.min.js\", \"https://cdn.bokeh.org/bokeh/release/bokeh-widgets-3.3.4.min.js\", \"https://cdn.bokeh.org/bokeh/release/bokeh-tables-3.3.4.min.js\", \"https://cdn.bokeh.org/bokeh/release/bokeh-mathjax-3.3.4.min.js\"];\n  const css_urls = [];\n\n  const inline_js = [    function(Bokeh) {\n      Bokeh.set_log_level(\"info\");\n    },\nfunction(Bokeh) {\n    }\n  ];\n\n  function run_inline_js() {\n    if (root.Bokeh !== undefined || force === true) {\n          for (let i = 0; i < inline_js.length; i++) {\n      inline_js[i].call(root, root.Bokeh);\n    }\nif (force === true) {\n        display_loaded();\n      }} else if (Date.now() < root._bokeh_timeout) {\n      setTimeout(run_inline_js, 100);\n    } else if (!root._bokeh_failed_load) {\n      console.log(\"Bokeh: BokehJS failed to load within specified timeout.\");\n      root._bokeh_failed_load = true;\n    } else if (force !== true) {\n      const cell = $(document.getElementById(\"d31d4695-3958-48e0-a98c-fd5e93cab6d9\")).parents('.cell').data().cell;\n      cell.output_area.append_execute_result(NB_LOAD_WARNING)\n    }\n  }\n\n  if (root._bokeh_is_loading === 0) {\n    console.debug(\"Bokeh: BokehJS loaded, going straight to plotting\");\n    run_inline_js();\n  } else {\n    load_libs(css_urls, js_urls, function() {\n      console.debug(\"Bokeh: BokehJS plotting callback run at\", now());\n      run_inline_js();\n    });\n  }\n}(window));"
     },
     "metadata": {},
     "output_type": "display_data"
    }
   ],
   "source": [
    "###\n",
    "#   FIG2_3.IPYNB:\n",
    "#   Creating plots for Figures 2 and 3 in the paper.\n",
    "###\n",
    "# By Kirill Sechkar\n",
    "\n",
    "# IMPORTS\n",
    "from sr_model import *\n",
    "import bokeh.io as bkio\n",
    "bkio.output_notebook()\n",
    "\n",
    "# set up jax\n",
    "jax.config.update('jax_platform_name', 'cpu')\n",
    "jax.config.update(\"jax_enable_x64\", True)"
   ]
  },
  {
   "cell_type": "code",
   "execution_count": 2,
   "outputs": [],
   "source": [
    "# define extents of gene induction considered and magnitude of disturbance\n",
    "inda_axis = jnp.logspace(jnp.log10(1.8e-4), 0, 51) #jnp.concatenate((jnp.array([0]),jnp.logspace(-4+jnp.log10(1.8), 0, 51)))\n",
    "inda_axis_np=np.array(inda_axis) # np format for robustness calculations\n",
    "ind_c_distrubing = 1\n",
    "ind_f_fbck = 2e-7\n",
    "\n",
    "# define the range of tested inhibitior gRNA induction extents\n",
    "indi_axis = jnp.logspace(jnp.log10(1.8e-4), 0, 51)\n",
    "\n",
    "# initialise model parameter values\n",
    "par = set_default_pars()"
   ],
   "metadata": {
    "collapsed": false,
    "ExecuteTime": {
     "end_time": "2024-03-20T14:40:01.217219Z",
     "start_time": "2024-03-20T14:40:01.025902400Z"
    }
   }
  },
  {
   "cell_type": "code",
   "execution_count": 3,
   "outputs": [],
   "source": [
    "# GET THE DISTURBED AND UNDISTURBED INDUCTION CURVES FOR BASIC CRISPRa\n",
    "par_basic = par.copy()\n",
    "par_basic['i_offtarget'] = 1.0\n",
    "par_basic['alpha_gi'] = 0.0\n",
    "\n",
    "stacked_mesh_basic = jnp.stack((jnp.zeros_like(inda_axis), inda_axis), axis=1)\n",
    "\n",
    "# get F values with no competition\n",
    "x0_no_basic = jnp.concatenate((stacked_mesh_basic, 0 * jnp.ones((len(inda_axis), 1))), axis=1)\n",
    "p_ss_no_basic_ravel, _, _, F_ss_no_basic_ravel = induction_to_F(x0_no_basic, par_basic)\n",
    "p_ss_no_basic = np.array(p_ss_no_basic_ravel)\n",
    "F_ss_no_basic = np.array(F_ss_no_basic_ravel)\n",
    "\n",
    "# get F values with competition\n",
    "x0_with_basic = jnp.concatenate((stacked_mesh_basic, ind_c_distrubing * jnp.ones((len(inda_axis), 1))), axis=1)\n",
    "p_ss_with_basic_ravel, _, _, F_ss_with_basic_ravel = induction_to_F(x0_with_basic, par_basic)\n",
    "p_ss_with_basic = np.array(p_ss_with_basic_ravel)\n",
    "F_ss_with_basic = np.array(F_ss_with_basic_ravel)\n",
    "\n",
    "# calculate performance metrics\n",
    "dynrange_basic = np.max(p_ss_no_basic) - np.min(p_ss_no_basic) # dynamic range of output gene transcription\n",
    "fold_change_basic = np.max(p_ss_no_basic) / np.min(p_ss_no_basic)  # fold change upon full induction compared to minimal induction\n",
    "robustness_basic = rob(p_ss_with_basic, p_ss_no_basic, inda_axis_np)\n",
    "K_fold_change_basic, K_no_arg_basic, K_with_arg_basic = change_in_K(F_ss_with_basic, F_ss_no_basic, inda_axis_np)"
   ],
   "metadata": {
    "collapsed": false,
    "ExecuteTime": {
     "end_time": "2024-03-20T14:40:03.335581500Z",
     "start_time": "2024-03-20T14:40:01.220614Z"
    }
   }
  },
  {
   "cell_type": "code",
   "execution_count": 4,
   "outputs": [],
   "source": [
    "# GET THE DISTURBED AND UNDISTURBED INDUCTION CURVES WITH SR\n",
    "par_sr=par.copy()\n",
    "\n",
    "indi_mesh, inda_mesh = jnp.meshgrid(indi_axis, inda_axis)\n",
    "indi_mesh_ravel = indi_mesh.ravel()\n",
    "inda_mesh_ravel = inda_mesh.ravel()\n",
    "stacked_mesh = jnp.stack((indi_mesh_ravel, inda_mesh_ravel), axis=1)\n",
    "\n",
    "# get F values with no competition\n",
    "x0_no = jnp.concatenate((stacked_mesh, 0 * jnp.ones((len(inda_mesh_ravel), 1))), axis=1)\n",
    "p_ss_no_ravel, Fi_ss_no_ravel, Fa_ss_no_ravel, F_ss_no_ravel = induction_to_F(x0_no, par_sr)\n",
    "p_ss_no = np.array(p_ss_no_ravel.reshape(len(inda_axis), len(indi_axis))).T\n",
    "F_ss_no = np.array(F_ss_no_ravel.reshape(len(inda_axis), len(indi_axis))).T\n",
    "Fi_ss_no = np.array(Fi_ss_no_ravel.reshape(len(inda_axis), len(indi_axis))).T\n",
    "Fa_ss_no = np.array(Fa_ss_no_ravel.reshape(len(inda_axis), len(indi_axis))).T\n",
    "\n",
    "# get F values with competition\n",
    "x0_with = jnp.concatenate((stacked_mesh, ind_c_distrubing * jnp.ones((len(inda_mesh_ravel), 1))), axis=1)\n",
    "p_ss_with_ravel, Fi_ss_with_ravel, Fa_ss_with_ravel, F_ss_with_ravel = induction_to_F(x0_with, par_sr)\n",
    "p_ss_with = np.array(p_ss_with_ravel.reshape(len(inda_axis), len(indi_axis))).T\n",
    "F_ss_with = np.array(F_ss_with_ravel.reshape(len(inda_axis), len(indi_axis))).T\n",
    "Fi_ss_with = np.array(Fi_ss_with_ravel.reshape(len(inda_axis), len(indi_axis))).T\n",
    "Fa_ss_with = np.array(Fa_ss_with_ravel.reshape(len(inda_axis), len(indi_axis))).T\n",
    "\n",
    "# calculate performance metrics\n",
    "dynrange = np.max(p_ss_no,axis=1) - np.min(p_ss_no,axis=1)  # dynamic range of output gene transcription\n",
    "fold_change = np.max(p_ss_no,axis=1) / np.min(p_ss_no,axis=1)  # fold change upon full induction compared to minimal induction\n",
    "robustness = rob(p_ss_with, p_ss_no, inda_axis_np) # do not include zero induction!\n",
    "K_fold_change, K_no_arg, K_with_arg = change_in_K(F_ss_with, F_ss_no, inda_axis_np)"
   ],
   "metadata": {
    "collapsed": false,
    "ExecuteTime": {
     "end_time": "2024-03-20T14:40:38.279636900Z",
     "start_time": "2024-03-20T14:40:03.340585100Z"
    }
   }
  },
  {
   "cell_type": "code",
   "execution_count": 5,
   "outputs": [],
   "source": [
    "# GET THE DISTURBED AND UNDISTURBED INDUCTION CURVES WITH OFF-TARGET INTERFERENCE\n",
    "par_off = par.copy()\n",
    "par_off['i_offtarget'] = 1.0\n",
    "\n",
    "# get F values with no competition\n",
    "x0_no_off = jnp.concatenate((stacked_mesh, 0 * jnp.ones((len(inda_mesh_ravel), 1))), axis=1)\n",
    "p_ss_no_off_ravel, _, _, F_ss_no_off_ravel = induction_to_F(x0_no_off, par_off)\n",
    "p_ss_no_off = np.array(p_ss_no_off_ravel.reshape(len(inda_axis), len(indi_axis))).T\n",
    "F_ss_no_off = np.array(F_ss_no_off_ravel.reshape(len(inda_axis), len(indi_axis))).T\n",
    "\n",
    "# get F values with competition\n",
    "x0_with_off = jnp.concatenate((stacked_mesh, ind_c_distrubing * jnp.ones((len(inda_mesh_ravel), 1))), axis=1)\n",
    "p_ss_with_off_ravel, _, _, F_ss_with_off_ravel = induction_to_F(x0_with_off, par_off)\n",
    "p_ss_with_off = np.array(p_ss_with_off_ravel.reshape(len(inda_axis), len(indi_axis))).T\n",
    "F_ss_with_off = np.array(F_ss_with_off_ravel.reshape(len(inda_axis), len(indi_axis))).T\n",
    "\n",
    "# calculate performance metrics\n",
    "dynrange_off = np.max(p_ss_no_off,axis=1) - np.min(p_ss_no_off,axis=1)  # dynamic range of output gene transcription\n",
    "fold_change_off = np.max(p_ss_no_off,axis=1) / np.min(p_ss_no_off,axis=1)  # fold change upon full induction compared to minimal induction\n",
    "robustness_off = rob(p_ss_no_off, p_ss_with_off, inda_axis_np) # do not include zero induction!"
   ],
   "metadata": {
    "collapsed": false,
    "ExecuteTime": {
     "end_time": "2024-03-20T14:41:17.256989Z",
     "start_time": "2024-03-20T14:40:38.279636900Z"
    }
   }
  },
  {
   "cell_type": "code",
   "execution_count": 6,
   "outputs": [],
   "source": [
    "# GET THE DISTURBED AND UNDISTURBED INDUCTION CURVES WITH FEEDBACK REGULATION OF dCAS9 SYNTHESIS\n",
    "par_fbck = par.copy()\n",
    "par_fbck['fbck_present']=1.0\n",
    "par_fbck['alpha_gi'] = 0.0 # no co-regulation by the interfering gRNA\n",
    "par_fbck['alpha_d'] = par['alpha_d']*1e4 # no co-regulation by the interfering gRNA\n",
    "par_fbck['i_offtarget'] = 1.0 # no co-regulation by the activating gRNA\n",
    "\n",
    "# no co-regulation by the interfering gRNA\n",
    "stacked_mesh_fbck = stacked_mesh_basic\n",
    "\n",
    "# g get F values with no competition\n",
    "x0_no_fbck = jnp.concatenate((stacked_mesh_fbck, 0 * jnp.ones((len(inda_axis), 1))), axis=1)\n",
    "p_ss_no_fbck_ravel, _, _, F_ss_no_fbck_ravel = induction_to_F(x0_no_fbck, par_fbck)\n",
    "p_ss_no_fbck = np.array(p_ss_no_fbck_ravel)\n",
    "F_ss_no_fbck = np.array(F_ss_no_fbck_ravel)\n",
    "\n",
    "# get F values with competition\n",
    "x0_with_fbck = jnp.concatenate((stacked_mesh_fbck, ind_c_distrubing * jnp.ones((len(inda_axis), 1))), axis=1)\n",
    "p_ss_with_fbck_ravel, _, _, F_ss_with_fbck_ravel = induction_to_F(x0_with_fbck, par_fbck)\n",
    "p_ss_with_fbck = np.array(p_ss_with_fbck_ravel)\n",
    "F_ss_with_fbck = np.array(F_ss_with_fbck_ravel)\n",
    "\n",
    "# calculate performance metrics\n",
    "dynrange_fbck = np.max(p_ss_no_fbck) - np.min(p_ss_no_fbck)  # dynamic range of output gene transcription\n",
    "fold_change_fbck = np.max(p_ss_no_fbck) / np.min(p_ss_no_fbck)  # fold change upon full induction compared to minimal induction\n",
    "robustness_fbck = rob(p_ss_with_fbck, p_ss_no_fbck, inda_axis_np)"
   ],
   "metadata": {
    "collapsed": false,
    "ExecuteTime": {
     "end_time": "2024-03-20T14:41:19.083501400Z",
     "start_time": "2024-03-20T14:41:17.263307300Z"
    }
   }
  },
  {
   "cell_type": "code",
   "execution_count": 7,
   "outputs": [
    {
     "data": {
      "text/html": "\n  <div id=\"fc01b7a1-e14f-4458-8ef2-65759b0e094e\" data-root-id=\"p1109\" style=\"display: contents;\"></div>\n"
     },
     "metadata": {},
     "output_type": "display_data"
    },
    {
     "data": {
      "application/javascript": "(function(root) {\n  function embed_document(root) {\n  const docs_json = {\"224c27f4-bed8-4061-b2b0-5511dc2b13a5\":{\"version\":\"3.3.4\",\"title\":\"Bokeh Application\",\"roots\":[{\"type\":\"object\",\"name\":\"GridBox\",\"id\":\"p1109\",\"attributes\":{\"rows\":null,\"cols\":null,\"children\":[[{\"type\":\"object\",\"name\":\"Figure\",\"id\":\"p1001\",\"attributes\":{\"x_range\":{\"type\":\"object\",\"name\":\"Range1d\",\"id\":\"p1010\",\"attributes\":{\"start\":0.00018}},\"y_range\":{\"type\":\"object\",\"name\":\"Range1d\",\"id\":\"p1011\",\"attributes\":{\"end\":21000.0}},\"x_scale\":{\"type\":\"object\",\"name\":\"LogScale\",\"id\":\"p1012\"},\"y_scale\":{\"type\":\"object\",\"name\":\"LinearScale\",\"id\":\"p1013\"},\"title\":{\"type\":\"object\",\"name\":\"Title\",\"id\":\"p1008\",\"attributes\":{\"text_color\":\"#5B5B5B\",\"text_font\":\"Helvetica\",\"text_font_size\":\"8pt\"}},\"renderers\":[{\"type\":\"object\",\"name\":\"GlyphRenderer\",\"id\":\"p1040\",\"attributes\":{\"data_source\":{\"type\":\"object\",\"name\":\"ColumnDataSource\",\"id\":\"p1034\",\"attributes\":{\"selected\":{\"type\":\"object\",\"name\":\"Selection\",\"id\":\"p1035\",\"attributes\":{\"indices\":[],\"line_indices\":[]}},\"selection_policy\":{\"type\":\"object\",\"name\":\"UnionRenderers\",\"id\":\"p1036\"},\"data\":{\"type\":\"map\",\"entries\":[[\"x\",{\"type\":\"ndarray\",\"array\":{\"type\":\"bytes\",\"data\":\"G9b/OcyXJz9vIpYCkggsPzKr+0impzA/3TdKciDKMz94ANggpIM3P0938rWe8Ds/i8Zfo2uZQD++CRs0OLlDP3cwN0CNb0c/u5aU37/YSz+B2NslPYtQP37nwGdeqFM/vvlmiYdbVz/lLwFu9cBbP1UQDcYafWA/YZPkAJOXYz/Kgb3tkkdnP3Lhy08/qWs/t3yZeQRvcD/EWjnz1YZzPzJ1nV6vM3c/4SyXc52Rez9oBDA2+mCAPxQNfTIndoM/8vx1zdwfhz98aRTID3qLP4peiPH7UpA/9PJ3soZlkz/Is8IrGwyXPxG4AzyWYps/LQtjoQlFoD8Jxfxm9FSjP4WbC2tq+KY/C/YzvjBLqz+8S4k7IzewP1aj6ENwRLM/fhLlfMrktj/zsII93zO7P4sbzbVIKcA/LgwjPfozwz/1yO9SO9HGP+cZ3KihHMs/YygJBnob0D9i051GkiPTP6C22N68vdY/Dfk673cF2z8RyyAitw3gP3QZVVQ4E+M/GxBZEk+q5j8hoaj/Ye7qPwAAAAAAAPA/\"},\"shape\":[51],\"dtype\":\"float64\",\"order\":\"little\"}],[\"y\",{\"type\":\"ndarray\",\"array\":{\"type\":\"bytes\",\"data\":\"Z38xRXBJlkBOrdcjZ4qXQByuTnzEB5lAAHLrfeXMmkATUTZqSuecQKqRp1L9Zp9At+e3B4YvoUCjl31+DPOiQLQ/OleDC6VAsdEzveGIp0DA0HlIHX6qQKZaEI+4Aa5A0Yl8rjUXsUB9R20y9JGzQAaok/Dhg7ZADPCgYj4DukBVD1UIUiq+QLZ39r0CjMFAt18OUyh4xEC8rMMC7e3HQE262yHNAcxA17aowzVc0EDHTIMhU5/SQOJWTVNdTdNAYFOQKbRr00DzMg3cnHbTQLJ1khUYfNNAH/Ofw1d/00CI/723doHTQNMRthjwgtNAK2yaAwKE00D9+ZErz4TTQNdMFXdshdNAYLCsOeeF00BTKDM+SIbTQBMq8xaDhtNARJyU7YOG00Dq/mIHhIbTQE6CQhGEhtNAFv5pFoSG00DyvooZhIbTQJfGnRuEhtNAWPMSHYSG00DIACQehIbTQIXB8R6EhtNAs0GQH4SG00AEcgwghIbTQJ4MbyCEhtNAwyq+IISG00DeL/4ghIbTQDFYMiGEhtNA\"},\"shape\":[51],\"dtype\":\"float64\",\"order\":\"little\"}]]}}},\"view\":{\"type\":\"object\",\"name\":\"CDSView\",\"id\":\"p1041\",\"attributes\":{\"filter\":{\"type\":\"object\",\"name\":\"AllIndices\",\"id\":\"p1042\"}}},\"glyph\":{\"type\":\"object\",\"name\":\"Line\",\"id\":\"p1037\",\"attributes\":{\"x\":{\"type\":\"field\",\"field\":\"x\"},\"y\":{\"type\":\"field\",\"field\":\"y\"},\"line_color\":\"#de3163ff\",\"line_width\":2}},\"nonselection_glyph\":{\"type\":\"object\",\"name\":\"Line\",\"id\":\"p1038\",\"attributes\":{\"x\":{\"type\":\"field\",\"field\":\"x\"},\"y\":{\"type\":\"field\",\"field\":\"y\"},\"line_color\":\"#de3163ff\",\"line_alpha\":0.1,\"line_width\":2}},\"muted_glyph\":{\"type\":\"object\",\"name\":\"Line\",\"id\":\"p1039\",\"attributes\":{\"x\":{\"type\":\"field\",\"field\":\"x\"},\"y\":{\"type\":\"field\",\"field\":\"y\"},\"line_color\":\"#de3163ff\",\"line_alpha\":0.2,\"line_width\":2}}}},{\"type\":\"object\",\"name\":\"GlyphRenderer\",\"id\":\"p1051\",\"attributes\":{\"data_source\":{\"type\":\"object\",\"name\":\"ColumnDataSource\",\"id\":\"p1045\",\"attributes\":{\"selected\":{\"type\":\"object\",\"name\":\"Selection\",\"id\":\"p1046\",\"attributes\":{\"indices\":[],\"line_indices\":[]}},\"selection_policy\":{\"type\":\"object\",\"name\":\"UnionRenderers\",\"id\":\"p1047\"},\"data\":{\"type\":\"map\",\"entries\":[[\"x\",{\"type\":\"ndarray\",\"array\":{\"type\":\"bytes\",\"data\":\"G9b/OcyXJz9vIpYCkggsPzKr+0impzA/3TdKciDKMz94ANggpIM3P0938rWe8Ds/i8Zfo2uZQD++CRs0OLlDP3cwN0CNb0c/u5aU37/YSz+B2NslPYtQP37nwGdeqFM/vvlmiYdbVz/lLwFu9cBbP1UQDcYafWA/YZPkAJOXYz/Kgb3tkkdnP3Lhy08/qWs/t3yZeQRvcD/EWjnz1YZzPzJ1nV6vM3c/4SyXc52Rez9oBDA2+mCAPxQNfTIndoM/8vx1zdwfhz98aRTID3qLP4peiPH7UpA/9PJ3soZlkz/Is8IrGwyXPxG4AzyWYps/LQtjoQlFoD8Jxfxm9FSjP4WbC2tq+KY/C/YzvjBLqz+8S4k7IzewP1aj6ENwRLM/fhLlfMrktj/zsII93zO7P4sbzbVIKcA/LgwjPfozwz/1yO9SO9HGP+cZ3KihHMs/YygJBnob0D9i051GkiPTP6C22N68vdY/Dfk673cF2z8RyyAitw3gP3QZVVQ4E+M/GxBZEk+q5j8hoaj/Ye7qPwAAAAAAAPA/\"},\"shape\":[51],\"dtype\":\"float64\",\"order\":\"little\"}],[\"y\",{\"type\":\"ndarray\",\"array\":{\"type\":\"bytes\",\"data\":\"cJzXDMoakEA/szcT5TGQQHO/IdtYTZBAlGMKnPZtkEA4WurWtpSQQCpksrHAwpBAFOVUsXL5kEAr5sQSbTqRQPT6wA6eh5FAkG2YYVDjkUBhcZN/PFCSQLAygvCc0ZJAgiBvYUZrk0Bl17QSxCGUQAXt42J5+pRAdqHrU8n7lUCyFo8HRS2XQCf/rVHil5hAfesKoTtGmkDm/Oqf2kScQBJ40wmPop5AQXnSomm4oEB2+tUpIGKiQK8wSEGJWqRAo0jYCeCvpkD3b4oz0XKpQEAQd6bYtqxAui8OoFNJsEB5plYvR5CyQM1TvHJ2P7VAeDDP/0pouEDW4U3wkR68QEsEei9HPMBAUaCk9mzHwkDUVyt4573FQOCYbx/PLMlAmmxGrpMdzUCdJICQ0cDQQND8J5MftNJAhiNMLWpJ00DuWWWg+mfTQNAMY7iFc9NA5ORX225500CIhnNr+HzTQNBZIw1Lf9NAXRk87umA00DeYunfF4LTQDOK9Hf6gtNAnZgteKiD00Arsg92MITTQK32cTichNNA\"},\"shape\":[51],\"dtype\":\"float64\",\"order\":\"little\"}]]}}},\"view\":{\"type\":\"object\",\"name\":\"CDSView\",\"id\":\"p1052\",\"attributes\":{\"filter\":{\"type\":\"object\",\"name\":\"AllIndices\",\"id\":\"p1053\"}}},\"glyph\":{\"type\":\"object\",\"name\":\"Line\",\"id\":\"p1048\",\"attributes\":{\"x\":{\"type\":\"field\",\"field\":\"x\"},\"y\":{\"type\":\"field\",\"field\":\"y\"},\"line_color\":\"#de3163ff\",\"line_width\":2,\"line_dash\":[6]}},\"nonselection_glyph\":{\"type\":\"object\",\"name\":\"Line\",\"id\":\"p1049\",\"attributes\":{\"x\":{\"type\":\"field\",\"field\":\"x\"},\"y\":{\"type\":\"field\",\"field\":\"y\"},\"line_color\":\"#de3163ff\",\"line_alpha\":0.1,\"line_width\":2,\"line_dash\":[6]}},\"muted_glyph\":{\"type\":\"object\",\"name\":\"Line\",\"id\":\"p1050\",\"attributes\":{\"x\":{\"type\":\"field\",\"field\":\"x\"},\"y\":{\"type\":\"field\",\"field\":\"y\"},\"line_color\":\"#de3163ff\",\"line_alpha\":0.2,\"line_width\":2,\"line_dash\":[6]}}}}],\"toolbar\":{\"type\":\"object\",\"name\":\"Toolbar\",\"id\":\"p1009\",\"attributes\":{\"tools\":[{\"type\":\"object\",\"name\":\"PanTool\",\"id\":\"p1024\"},{\"type\":\"object\",\"name\":\"BoxZoomTool\",\"id\":\"p1025\",\"attributes\":{\"overlay\":{\"type\":\"object\",\"name\":\"BoxAnnotation\",\"id\":\"p1026\",\"attributes\":{\"syncable\":false,\"level\":\"overlay\",\"visible\":false,\"left\":{\"type\":\"number\",\"value\":\"nan\"},\"right\":{\"type\":\"number\",\"value\":\"nan\"},\"top\":{\"type\":\"number\",\"value\":\"nan\"},\"bottom\":{\"type\":\"number\",\"value\":\"nan\"},\"left_units\":\"canvas\",\"right_units\":\"canvas\",\"top_units\":\"canvas\",\"bottom_units\":\"canvas\",\"line_color\":\"black\",\"line_alpha\":1.0,\"line_width\":2,\"line_dash\":[4,4],\"fill_color\":\"lightgrey\",\"fill_alpha\":0.5}}}},{\"type\":\"object\",\"name\":\"HoverTool\",\"id\":\"p1031\",\"attributes\":{\"renderers\":\"auto\"}},{\"type\":\"object\",\"name\":\"ResetTool\",\"id\":\"p1032\"},{\"type\":\"object\",\"name\":\"SaveTool\",\"id\":\"p1033\"}]}},\"left\":[{\"type\":\"object\",\"name\":\"LinearAxis\",\"id\":\"p1019\",\"attributes\":{\"ticker\":{\"type\":\"object\",\"name\":\"BasicTicker\",\"id\":\"p1020\",\"attributes\":{\"mantissas\":[1,2,5]}},\"formatter\":{\"type\":\"object\",\"name\":\"BasicTickFormatter\",\"id\":\"p1021\"},\"axis_label\":\"p, output prot. conc. [nM]\",\"axis_label_standoff\":10,\"axis_label_text_color\":\"#5B5B5B\",\"axis_label_text_font\":\"Helvetica\",\"axis_label_text_font_size\":\"8pt\",\"axis_label_text_font_style\":\"normal\",\"major_label_policy\":{\"type\":\"object\",\"name\":\"AllLabels\",\"id\":\"p1022\"},\"major_label_text_color\":\"#5B5B5B\",\"major_label_text_font\":\"Helvetica\",\"major_label_text_font_size\":\"8pt\",\"axis_line_color\":\"#5B5B5B\",\"axis_line_alpha\":0,\"major_tick_line_color\":\"#5B5B5B\",\"major_tick_line_alpha\":0,\"minor_tick_line_color\":\"#5B5B5B\",\"minor_tick_line_alpha\":0}}],\"below\":[{\"type\":\"object\",\"name\":\"LogAxis\",\"id\":\"p1014\",\"attributes\":{\"ticker\":{\"type\":\"object\",\"name\":\"LogTicker\",\"id\":\"p1015\",\"attributes\":{\"num_minor_ticks\":10,\"mantissas\":[1,5]}},\"formatter\":{\"type\":\"object\",\"name\":\"LogTickFormatter\",\"id\":\"p1016\"},\"axis_label\":\"ua, induction of activating gRNA gene\",\"axis_label_standoff\":10,\"axis_label_text_color\":\"#5B5B5B\",\"axis_label_text_font\":\"Helvetica\",\"axis_label_text_font_size\":\"8pt\",\"axis_label_text_font_style\":\"normal\",\"major_label_policy\":{\"type\":\"object\",\"name\":\"AllLabels\",\"id\":\"p1017\"},\"major_label_text_color\":\"#5B5B5B\",\"major_label_text_font\":\"Helvetica\",\"major_label_text_font_size\":\"8pt\",\"axis_line_color\":\"#5B5B5B\",\"axis_line_alpha\":0,\"major_tick_line_color\":\"#5B5B5B\",\"major_tick_line_alpha\":0,\"minor_tick_line_color\":\"#5B5B5B\",\"minor_tick_line_alpha\":0}}],\"center\":[{\"type\":\"object\",\"name\":\"Grid\",\"id\":\"p1018\",\"attributes\":{\"axis\":{\"id\":\"p1014\"}}},{\"type\":\"object\",\"name\":\"Grid\",\"id\":\"p1023\",\"attributes\":{\"dimension\":1,\"axis\":{\"id\":\"p1019\"}}},{\"type\":\"object\",\"name\":\"Legend\",\"id\":\"p1043\",\"attributes\":{\"location\":\"top_left\",\"border_line_color\":\"gray\",\"border_line_alpha\":0.3,\"background_fill_color\":\"white\",\"background_fill_alpha\":1,\"label_text_color\":\"#5B5B5B\",\"label_text_font\":\"Helvetica\",\"label_text_font_size\":\"8pt\",\"label_standoff\":8,\"glyph_width\":15,\"margin\":2,\"padding\":3,\"spacing\":0,\"items\":[{\"type\":\"object\",\"name\":\"LegendItem\",\"id\":\"p1044\",\"attributes\":{\"label\":{\"type\":\"value\",\"value\":\"p(ua,uc=0)\"},\"renderers\":[{\"id\":\"p1040\"}]}},{\"type\":\"object\",\"name\":\"LegendItem\",\"id\":\"p1054\",\"attributes\":{\"label\":{\"type\":\"value\",\"value\":\"p(ua,uc=1)\"},\"renderers\":[{\"id\":\"p1051\"}]}}]}}],\"frame_width\":256,\"frame_height\":144,\"output_backend\":\"svg\"}},0,0,1,1],[{\"type\":\"object\",\"name\":\"Figure\",\"id\":\"p1055\",\"attributes\":{\"x_range\":{\"type\":\"object\",\"name\":\"Range1d\",\"id\":\"p1064\",\"attributes\":{\"start\":0.00018}},\"y_range\":{\"type\":\"object\",\"name\":\"Range1d\",\"id\":\"p1065\",\"attributes\":{\"end\":21000.0}},\"x_scale\":{\"type\":\"object\",\"name\":\"LogScale\",\"id\":\"p1066\"},\"y_scale\":{\"type\":\"object\",\"name\":\"LinearScale\",\"id\":\"p1067\"},\"title\":{\"type\":\"object\",\"name\":\"Title\",\"id\":\"p1062\",\"attributes\":{\"text_color\":\"#5B5B5B\",\"text_font\":\"Helvetica\",\"text_font_size\":\"8pt\"}},\"renderers\":[{\"type\":\"object\",\"name\":\"GlyphRenderer\",\"id\":\"p1094\",\"attributes\":{\"data_source\":{\"type\":\"object\",\"name\":\"ColumnDataSource\",\"id\":\"p1088\",\"attributes\":{\"selected\":{\"type\":\"object\",\"name\":\"Selection\",\"id\":\"p1089\",\"attributes\":{\"indices\":[],\"line_indices\":[]}},\"selection_policy\":{\"type\":\"object\",\"name\":\"UnionRenderers\",\"id\":\"p1090\"},\"data\":{\"type\":\"map\",\"entries\":[[\"x\",{\"type\":\"ndarray\",\"array\":{\"type\":\"bytes\",\"data\":\"G9b/OcyXJz9vIpYCkggsPzKr+0impzA/3TdKciDKMz94ANggpIM3P0938rWe8Ds/i8Zfo2uZQD++CRs0OLlDP3cwN0CNb0c/u5aU37/YSz+B2NslPYtQP37nwGdeqFM/vvlmiYdbVz/lLwFu9cBbP1UQDcYafWA/YZPkAJOXYz/Kgb3tkkdnP3Lhy08/qWs/t3yZeQRvcD/EWjnz1YZzPzJ1nV6vM3c/4SyXc52Rez9oBDA2+mCAPxQNfTIndoM/8vx1zdwfhz98aRTID3qLP4peiPH7UpA/9PJ3soZlkz/Is8IrGwyXPxG4AzyWYps/LQtjoQlFoD8Jxfxm9FSjP4WbC2tq+KY/C/YzvjBLqz+8S4k7IzewP1aj6ENwRLM/fhLlfMrktj/zsII93zO7P4sbzbVIKcA/LgwjPfozwz/1yO9SO9HGP+cZ3KihHMs/YygJBnob0D9i051GkiPTP6C22N68vdY/Dfk673cF2z8RyyAitw3gP3QZVVQ4E+M/GxBZEk+q5j8hoaj/Ye7qPwAAAAAAAPA/\"},\"shape\":[51],\"dtype\":\"float64\",\"order\":\"little\"}],[\"y\",{\"type\":\"ndarray\",\"array\":{\"type\":\"bytes\",\"data\":\"Xge8Vm3+IEDlJSNZKfMhQF8ovH3zFSNAccRUCXZvJEDwiXVn/AkmQN3cooLB8SdACE5xxUw1KkAOdEp64OUsQJ0QJl3+CzBA4FWfU/3xMUCSk40jYjM0QM+vdPxW4TZAVIJvhjsQOkDjS4KqO9g9QPw2677/KkFAfi+Ux7rVQ0DZb8ocWgBHQBI2hx9wwkpA/AOMV2s3T0AHYM96Jj9SQIgSLworW1VA/tBXzU/zWED7SPATqmZcQFmQEX5McF1Aj1YB27qeXUASw0ENkK9dQNcHBCctuF1ADSEy1ni9XUA/i/9TLsFdQMsZfDcfxF1A69xNG9fGXUBnvN3I+MldQLibV2YLz11AtzkvYtreXUBnIOgNAwdhQPB2FmeuhHBAuzrf+9Tyi0CUYfQQYminQDoMuT7Z8LRAHvCV3kI7vUDmEfV3UTrCQMpI2ShcWMVAqNy78IAFyEAN/1qhmE/KQNGhU+iRQ8xAncUNpCHtzUAf4W7gsVbPQF2Q5Ke1RNBAUjHIdKXG0EAUVsxtnjTRQOtEvZSckdFA\"},\"shape\":[51],\"dtype\":\"float64\",\"order\":\"little\"}]]}}},\"view\":{\"type\":\"object\",\"name\":\"CDSView\",\"id\":\"p1095\",\"attributes\":{\"filter\":{\"type\":\"object\",\"name\":\"AllIndices\",\"id\":\"p1096\"}}},\"glyph\":{\"type\":\"object\",\"name\":\"Line\",\"id\":\"p1091\",\"attributes\":{\"x\":{\"type\":\"field\",\"field\":\"x\"},\"y\":{\"type\":\"field\",\"field\":\"y\"},\"line_color\":\"#ff6700ff\",\"line_width\":2}},\"nonselection_glyph\":{\"type\":\"object\",\"name\":\"Line\",\"id\":\"p1092\",\"attributes\":{\"x\":{\"type\":\"field\",\"field\":\"x\"},\"y\":{\"type\":\"field\",\"field\":\"y\"},\"line_color\":\"#ff6700ff\",\"line_alpha\":0.1,\"line_width\":2}},\"muted_glyph\":{\"type\":\"object\",\"name\":\"Line\",\"id\":\"p1093\",\"attributes\":{\"x\":{\"type\":\"field\",\"field\":\"x\"},\"y\":{\"type\":\"field\",\"field\":\"y\"},\"line_color\":\"#ff6700ff\",\"line_alpha\":0.2,\"line_width\":2}}}},{\"type\":\"object\",\"name\":\"GlyphRenderer\",\"id\":\"p1105\",\"attributes\":{\"data_source\":{\"type\":\"object\",\"name\":\"ColumnDataSource\",\"id\":\"p1099\",\"attributes\":{\"selected\":{\"type\":\"object\",\"name\":\"Selection\",\"id\":\"p1100\",\"attributes\":{\"indices\":[],\"line_indices\":[]}},\"selection_policy\":{\"type\":\"object\",\"name\":\"UnionRenderers\",\"id\":\"p1101\"},\"data\":{\"type\":\"map\",\"entries\":[[\"x\",{\"type\":\"ndarray\",\"array\":{\"type\":\"bytes\",\"data\":\"G9b/OcyXJz9vIpYCkggsPzKr+0impzA/3TdKciDKMz94ANggpIM3P0938rWe8Ds/i8Zfo2uZQD++CRs0OLlDP3cwN0CNb0c/u5aU37/YSz+B2NslPYtQP37nwGdeqFM/vvlmiYdbVz/lLwFu9cBbP1UQDcYafWA/YZPkAJOXYz/Kgb3tkkdnP3Lhy08/qWs/t3yZeQRvcD/EWjnz1YZzPzJ1nV6vM3c/4SyXc52Rez9oBDA2+mCAPxQNfTIndoM/8vx1zdwfhz98aRTID3qLP4peiPH7UpA/9PJ3soZlkz/Is8IrGwyXPxG4AzyWYps/LQtjoQlFoD8Jxfxm9FSjP4WbC2tq+KY/C/YzvjBLqz+8S4k7IzewP1aj6ENwRLM/fhLlfMrktj/zsII93zO7P4sbzbVIKcA/LgwjPfozwz/1yO9SO9HGP+cZ3KihHMs/YygJBnob0D9i051GkiPTP6C22N68vdY/Dfk673cF2z8RyyAitw3gP3QZVVQ4E+M/GxBZEk+q5j8hoaj/Ye7qPwAAAAAAAPA/\"},\"shape\":[51],\"dtype\":\"float64\",\"order\":\"little\"}],[\"y\",{\"type\":\"ndarray\",\"array\":{\"type\":\"bytes\",\"data\":\"b8oa+v34jECyZa0YIyKNQNCBcdsFU41Achsk4xqNjUAufXXOHNKNQHCwg1cZJI5A44Md44CFjkDGGBD1OPmOQDJ3aRGygo9A6F9c1QATkEDVFbNsAHSQQLKVXlw455BAdnTZtRJwkUC1HyR7nBKSQEGvd6Sj05JAsk3jiNq4k0Dug8KRAcmUQEzBbkEYDJZA7p6ct5aLl0ANigEAsVKZQEkkr5elbptAwEUirxjvnUBl3CnePnOgQL9jE3RINaJAM/f323BKpEA5X0T5t8GmQFDsRYWtrKlAPCxpj9EfrUClPSonfpmwQDOBjg7lALNAK3g31wLWtUAz1xm1Aiu5QL0oHFZzFL1A+A+mWp7UwEBBD7tDGoHDQFFf5wpMnMZAMpKVSx0wykABSwbBkzPOQEXcQ0NI9dBAQ+tmQSiX0UAs8Gg1sr/RQKohJvBy1tFAjtFKPh3p0UAAsyV87/rRQCMA/l8HDdJAl8kHQdUf0kCagZ3kfTPSQFUnI977R9JAoO7M1y1d0kCONw2s3nLSQHp5fZ/LiNJA\"},\"shape\":[51],\"dtype\":\"float64\",\"order\":\"little\"}]]}}},\"view\":{\"type\":\"object\",\"name\":\"CDSView\",\"id\":\"p1106\",\"attributes\":{\"filter\":{\"type\":\"object\",\"name\":\"AllIndices\",\"id\":\"p1107\"}}},\"glyph\":{\"type\":\"object\",\"name\":\"Line\",\"id\":\"p1102\",\"attributes\":{\"x\":{\"type\":\"field\",\"field\":\"x\"},\"y\":{\"type\":\"field\",\"field\":\"y\"},\"line_color\":\"#ff6700ff\",\"line_width\":2,\"line_dash\":[6]}},\"nonselection_glyph\":{\"type\":\"object\",\"name\":\"Line\",\"id\":\"p1103\",\"attributes\":{\"x\":{\"type\":\"field\",\"field\":\"x\"},\"y\":{\"type\":\"field\",\"field\":\"y\"},\"line_color\":\"#ff6700ff\",\"line_alpha\":0.1,\"line_width\":2,\"line_dash\":[6]}},\"muted_glyph\":{\"type\":\"object\",\"name\":\"Line\",\"id\":\"p1104\",\"attributes\":{\"x\":{\"type\":\"field\",\"field\":\"x\"},\"y\":{\"type\":\"field\",\"field\":\"y\"},\"line_color\":\"#ff6700ff\",\"line_alpha\":0.2,\"line_width\":2,\"line_dash\":[6]}}}}],\"toolbar\":{\"type\":\"object\",\"name\":\"Toolbar\",\"id\":\"p1063\",\"attributes\":{\"tools\":[{\"type\":\"object\",\"name\":\"PanTool\",\"id\":\"p1078\"},{\"type\":\"object\",\"name\":\"BoxZoomTool\",\"id\":\"p1079\",\"attributes\":{\"overlay\":{\"type\":\"object\",\"name\":\"BoxAnnotation\",\"id\":\"p1080\",\"attributes\":{\"syncable\":false,\"level\":\"overlay\",\"visible\":false,\"left\":{\"type\":\"number\",\"value\":\"nan\"},\"right\":{\"type\":\"number\",\"value\":\"nan\"},\"top\":{\"type\":\"number\",\"value\":\"nan\"},\"bottom\":{\"type\":\"number\",\"value\":\"nan\"},\"left_units\":\"canvas\",\"right_units\":\"canvas\",\"top_units\":\"canvas\",\"bottom_units\":\"canvas\",\"line_color\":\"black\",\"line_alpha\":1.0,\"line_width\":2,\"line_dash\":[4,4],\"fill_color\":\"lightgrey\",\"fill_alpha\":0.5}}}},{\"type\":\"object\",\"name\":\"HoverTool\",\"id\":\"p1085\",\"attributes\":{\"renderers\":\"auto\"}},{\"type\":\"object\",\"name\":\"ResetTool\",\"id\":\"p1086\"},{\"type\":\"object\",\"name\":\"SaveTool\",\"id\":\"p1087\"}]}},\"left\":[{\"type\":\"object\",\"name\":\"LinearAxis\",\"id\":\"p1073\",\"attributes\":{\"ticker\":{\"type\":\"object\",\"name\":\"BasicTicker\",\"id\":\"p1074\",\"attributes\":{\"mantissas\":[1,2,5]}},\"formatter\":{\"type\":\"object\",\"name\":\"BasicTickFormatter\",\"id\":\"p1075\"},\"axis_label\":\"p, output prot. conc. [nM]\",\"axis_label_standoff\":10,\"axis_label_text_color\":\"#5B5B5B\",\"axis_label_text_font\":\"Helvetica\",\"axis_label_text_font_size\":\"8pt\",\"axis_label_text_font_style\":\"normal\",\"major_label_policy\":{\"type\":\"object\",\"name\":\"AllLabels\",\"id\":\"p1076\"},\"major_label_text_color\":\"#5B5B5B\",\"major_label_text_font\":\"Helvetica\",\"major_label_text_font_size\":\"8pt\",\"axis_line_color\":\"#5B5B5B\",\"axis_line_alpha\":0,\"major_tick_line_color\":\"#5B5B5B\",\"major_tick_line_alpha\":0,\"minor_tick_line_color\":\"#5B5B5B\",\"minor_tick_line_alpha\":0}}],\"below\":[{\"type\":\"object\",\"name\":\"LogAxis\",\"id\":\"p1068\",\"attributes\":{\"ticker\":{\"type\":\"object\",\"name\":\"LogTicker\",\"id\":\"p1069\",\"attributes\":{\"num_minor_ticks\":10,\"mantissas\":[1,5]}},\"formatter\":{\"type\":\"object\",\"name\":\"LogTickFormatter\",\"id\":\"p1070\"},\"axis_label\":\"ua, induction of activating gRNA gene\",\"axis_label_standoff\":10,\"axis_label_text_color\":\"#5B5B5B\",\"axis_label_text_font\":\"Helvetica\",\"axis_label_text_font_size\":\"8pt\",\"axis_label_text_font_style\":\"normal\",\"major_label_policy\":{\"type\":\"object\",\"name\":\"AllLabels\",\"id\":\"p1071\"},\"major_label_text_color\":\"#5B5B5B\",\"major_label_text_font\":\"Helvetica\",\"major_label_text_font_size\":\"8pt\",\"axis_line_color\":\"#5B5B5B\",\"axis_line_alpha\":0,\"major_tick_line_color\":\"#5B5B5B\",\"major_tick_line_alpha\":0,\"minor_tick_line_color\":\"#5B5B5B\",\"minor_tick_line_alpha\":0}}],\"center\":[{\"type\":\"object\",\"name\":\"Grid\",\"id\":\"p1072\",\"attributes\":{\"axis\":{\"id\":\"p1068\"}}},{\"type\":\"object\",\"name\":\"Grid\",\"id\":\"p1077\",\"attributes\":{\"dimension\":1,\"axis\":{\"id\":\"p1073\"}}},{\"type\":\"object\",\"name\":\"Legend\",\"id\":\"p1097\",\"attributes\":{\"location\":\"top_left\",\"border_line_color\":\"gray\",\"border_line_alpha\":0.3,\"background_fill_color\":\"white\",\"background_fill_alpha\":1,\"label_text_color\":\"#5B5B5B\",\"label_text_font\":\"Helvetica\",\"label_text_font_size\":\"8pt\",\"label_standoff\":8,\"glyph_width\":15,\"margin\":2,\"padding\":3,\"spacing\":0,\"items\":[{\"type\":\"object\",\"name\":\"LegendItem\",\"id\":\"p1098\",\"attributes\":{\"label\":{\"type\":\"value\",\"value\":\"p(ua,uc=0)\"},\"renderers\":[{\"id\":\"p1094\"}]}},{\"type\":\"object\",\"name\":\"LegendItem\",\"id\":\"p1108\",\"attributes\":{\"label\":{\"type\":\"value\",\"value\":\"p(ua,uc=1)\"},\"renderers\":[{\"id\":\"p1105\"}]}}]}}],\"frame_width\":256,\"frame_height\":144,\"output_backend\":\"svg\"}},0,1,1,1]]}}]}};\n  const render_items = [{\"docid\":\"224c27f4-bed8-4061-b2b0-5511dc2b13a5\",\"roots\":{\"p1109\":\"fc01b7a1-e14f-4458-8ef2-65759b0e094e\"},\"root_ids\":[\"p1109\"]}];\n  root.Bokeh.embed.embed_items_notebook(docs_json, render_items);\n  }\n  if (root.Bokeh !== undefined) {\n    embed_document(root);\n  } else {\n    let attempts = 0;\n    const timer = setInterval(function(root) {\n      if (root.Bokeh !== undefined) {\n        clearInterval(timer);\n        embed_document(root);\n      } else {\n        attempts++;\n        if (attempts > 100) {\n          clearInterval(timer);\n          console.log(\"Bokeh: ERROR: Unable to run BokehJS code because BokehJS library is missing\");\n        }\n      }\n    }, 10, root)\n  }\n})(window);",
      "application/vnd.bokehjs_exec.v0+json": ""
     },
     "metadata": {
      "application/vnd.bokehjs_exec.v0+json": {
       "id": "p1109"
      }
     },
     "output_type": "display_data"
    },
    {
     "name": "stdout",
     "output_type": "stream",
     "text": [
      "Single activator: half-saturation point change: 15.787479453957054-fold\n",
      "SR: half-saturation point change: 2.8142799679711636-fold\n"
     ]
    }
   ],
   "source": [
    "# FIG 2C,D: INDUCTION CURVES WITHOUT AND WITH DISTURBANCE\n",
    "\n",
    "bkplot.output_backend = \"svg\"\n",
    "plot_x_range= (5e-6, 1)\n",
    "\n",
    "# ind_i value for example dose-response curve\n",
    "sr_example_indi = 1e-2\n",
    "\n",
    "# plot single-activator dose-response curve\n",
    "single_curve_fig = bkplot.figure(frame_width=256, frame_height=144,\n",
    "                                 x_axis_label='ua, induction of activating gRNA gene',\n",
    "                                 y_axis_label=\"p, output prot. conc. [nM]\",\n",
    "                                 x_axis_type='log', tools='pan,box_zoom,hover,reset,save',\n",
    "                                 x_range=(1.8e-4,1),\n",
    "                                 y_range=(0,2.1e4)\n",
    "                                 )\n",
    "single_curve_fig.output_backend = \"svg\"\n",
    "# curves\n",
    "single_curve_fig.line(np.array(inda_axis),\n",
    "                      p_ss_no_basic,\n",
    "                      line_width=2, line_color='#de3163ff', legend_label=\"p(ua,uc=0)\")\n",
    "single_curve_fig.line(inda_axis_np, p_ss_with_basic,\n",
    "                      line_width=2, line_color='#de3163ff', line_dash='dashed',\n",
    "                      legend_label='p(ua,uc=' + str(ind_c_distrubing)+')')\n",
    "# legend\n",
    "single_curve_fig.legend.location = \"top_left\"\n",
    "single_curve_fig.legend.border_line_color = \"gray\"\n",
    "single_curve_fig.legend.border_line_alpha = 0.3\n",
    "single_curve_fig.legend.background_fill_color = \"white\"\n",
    "single_curve_fig.legend.background_fill_alpha = 1\n",
    "single_curve_fig.legend.margin=2\n",
    "single_curve_fig.legend.padding=3\n",
    "single_curve_fig.legend.spacing=0\n",
    "#fonts\n",
    "single_curve_fig.title.text_font_size = \"8pt\"\n",
    "single_curve_fig.xaxis.axis_label_text_font_size = \"8pt\"\n",
    "single_curve_fig.yaxis.axis_label_text_font_size = \"8pt\"\n",
    "single_curve_fig.xaxis.major_label_text_font_size = \"8pt\"\n",
    "single_curve_fig.yaxis.major_label_text_font_size = \"8pt\"\n",
    "single_curve_fig.legend.label_text_font_size = \"8pt\"\n",
    "\n",
    "# plot the dose-response curve with SR\n",
    "indi_example_index = np.where(np.array(indi_axis) >= sr_example_indi)[0][0]\n",
    "sr_curve_fig = bkplot.figure(frame_width=256, frame_height=144,\n",
    "                                 x_axis_label='ua, induction of activating gRNA gene',\n",
    "                                 y_axis_label=\"p, output prot. conc. [nM]\",\n",
    "                                 x_axis_type='log', tools='pan,box_zoom,hover,reset,save',\n",
    "                                 x_range=(1.8e-4,1),\n",
    "                                y_range=(0,2.1e4)\n",
    "                                 )\n",
    "sr_curve_fig.output_backend = \"svg\"\n",
    "#curves\n",
    "# sr_curve_fig.line(np.array(inda_axis[1:]), p_ss_no[indi_example_index, 1:],\n",
    "#                   line_width=2, line_color='#ff6700ff', legend_label='u_c =0')\n",
    "sr_curve_fig.line(inda_axis_np, p_ss_no[indi_example_index,:],\n",
    "                  line_width=2, line_color='#ff6700ff', legend_label='p(ua,uc=0)')\n",
    "sr_curve_fig.line(inda_axis_np, p_ss_with[indi_example_index,:],\n",
    "                  line_width=2, line_color='#ff6700ff', line_dash='dashed',\n",
    "                  legend_label='p(ua,uc=' + str(ind_c_distrubing)+')')\n",
    "# legend\n",
    "sr_curve_fig.legend.location = \"top_left\"\n",
    "sr_curve_fig.legend.border_line_color = \"gray\"\n",
    "sr_curve_fig.legend.border_line_alpha = 0.3\n",
    "sr_curve_fig.legend.background_fill_color = \"white\"\n",
    "sr_curve_fig.legend.background_fill_alpha = 1\n",
    "sr_curve_fig.legend.margin=2\n",
    "sr_curve_fig.legend.padding=3\n",
    "sr_curve_fig.legend.spacing=0\n",
    "#fonts\n",
    "sr_curve_fig.title.text_font_size = \"8pt\"\n",
    "sr_curve_fig.xaxis.axis_label_text_font_size = \"8pt\"\n",
    "sr_curve_fig.yaxis.axis_label_text_font_size = \"8pt\"\n",
    "sr_curve_fig.xaxis.major_label_text_font_size = \"8pt\"\n",
    "sr_curve_fig.yaxis.major_label_text_font_size = \"8pt\"\n",
    "sr_curve_fig.legend.label_text_font_size = \"8pt\"\n",
    "\n",
    "# show plots\n",
    "bkplot.show(bklayouts.grid([[single_curve_fig, sr_curve_fig]]))\n",
    "\n",
    "# print half-saturation point changes\n",
    "print('Single activator: half-saturation point change: '+str(max(K_fold_change_basic,1/K_fold_change_basic))+'-fold')\n",
    "print('SR: half-saturation point change: '+str(max(K_fold_change[indi_example_index],1/K_fold_change[indi_example_index]))+'-fold')"
   ],
   "metadata": {
    "collapsed": false,
    "ExecuteTime": {
     "end_time": "2024-03-20T14:41:19.169196900Z",
     "start_time": "2024-03-20T14:41:19.083501400Z"
    }
   }
  },
  {
   "cell_type": "code",
   "execution_count": 8,
   "outputs": [
    {
     "data": {
      "text/html": "\n  <div id=\"feeaed6b-d5fd-4b60-9be6-db8d9b432d93\" data-root-id=\"p1421\" style=\"display: contents;\"></div>\n"
     },
     "metadata": {},
     "output_type": "display_data"
    },
    {
     "data": {
      "application/javascript": "(function(root) {\n  function embed_document(root) {\n  const docs_json = {\"15bb638d-8ddc-4b8a-a9a7-3f7b9c4bd7d1\":{\"version\":\"3.3.4\",\"title\":\"Bokeh Application\",\"roots\":[{\"type\":\"object\",\"name\":\"GridBox\",\"id\":\"p1421\",\"attributes\":{\"rows\":null,\"cols\":null,\"children\":[[{\"type\":\"object\",\"name\":\"Figure\",\"id\":\"p1344\",\"attributes\":{\"x_range\":{\"type\":\"object\",\"name\":\"Range1d\",\"id\":\"p1353\",\"attributes\":{\"start\":0.00018}},\"y_range\":{\"type\":\"object\",\"name\":\"Range1d\",\"id\":\"p1354\",\"attributes\":{\"start\":1e-09}},\"x_scale\":{\"type\":\"object\",\"name\":\"LogScale\",\"id\":\"p1355\"},\"y_scale\":{\"type\":\"object\",\"name\":\"LogScale\",\"id\":\"p1356\"},\"title\":{\"type\":\"object\",\"name\":\"Title\",\"id\":\"p1351\",\"attributes\":{\"text_color\":\"#5B5B5B\",\"text_font\":\"Helvetica\",\"text_font_size\":\"8pt\"}},\"renderers\":[{\"type\":\"object\",\"name\":\"GlyphRenderer\",\"id\":\"p1384\",\"attributes\":{\"data_source\":{\"type\":\"object\",\"name\":\"ColumnDataSource\",\"id\":\"p1378\",\"attributes\":{\"selected\":{\"type\":\"object\",\"name\":\"Selection\",\"id\":\"p1379\",\"attributes\":{\"indices\":[],\"line_indices\":[]}},\"selection_policy\":{\"type\":\"object\",\"name\":\"UnionRenderers\",\"id\":\"p1380\"},\"data\":{\"type\":\"map\",\"entries\":[[\"x\",{\"type\":\"ndarray\",\"array\":{\"type\":\"bytes\",\"data\":\"G9b/OcyXJz9vIpYCkggsPzKr+0impzA/3TdKciDKMz94ANggpIM3P0938rWe8Ds/i8Zfo2uZQD++CRs0OLlDP3cwN0CNb0c/u5aU37/YSz+B2NslPYtQP37nwGdeqFM/vvlmiYdbVz/lLwFu9cBbP1UQDcYafWA/YZPkAJOXYz/Kgb3tkkdnP3Lhy08/qWs/t3yZeQRvcD/EWjnz1YZzPzJ1nV6vM3c/4SyXc52Rez9oBDA2+mCAPxQNfTIndoM/8vx1zdwfhz98aRTID3qLP4peiPH7UpA/9PJ3soZlkz/Is8IrGwyXPxG4AzyWYps/LQtjoQlFoD8Jxfxm9FSjP4WbC2tq+KY/C/YzvjBLqz+8S4k7IzewP1aj6ENwRLM/fhLlfMrktj/zsII93zO7P4sbzbVIKcA/LgwjPfozwz/1yO9SO9HGP+cZ3KihHMs/YygJBnob0D9i051GkiPTP6C22N68vdY/Dfk673cF2z8RyyAitw3gP3QZVVQ4E+M/GxBZEk+q5j8hoaj/Ye7qPwAAAAAAAPA/\"},\"shape\":[51],\"dtype\":\"float64\",\"order\":\"little\"}]]}}},\"view\":{\"type\":\"object\",\"name\":\"CDSView\",\"id\":\"p1385\",\"attributes\":{\"filter\":{\"type\":\"object\",\"name\":\"AllIndices\",\"id\":\"p1386\"}}},\"glyph\":{\"type\":\"object\",\"name\":\"Line\",\"id\":\"p1381\",\"attributes\":{\"x\":{\"type\":\"field\",\"field\":\"x\"},\"y\":{\"type\":\"value\",\"value\":1.6111643314457555e-09},\"line_color\":\"#de3163ff\",\"line_width\":2}},\"nonselection_glyph\":{\"type\":\"object\",\"name\":\"Line\",\"id\":\"p1382\",\"attributes\":{\"x\":{\"type\":\"field\",\"field\":\"x\"},\"y\":{\"type\":\"value\",\"value\":1.6111643314457555e-09},\"line_color\":\"#de3163ff\",\"line_alpha\":0.1,\"line_width\":2}},\"muted_glyph\":{\"type\":\"object\",\"name\":\"Line\",\"id\":\"p1383\",\"attributes\":{\"x\":{\"type\":\"field\",\"field\":\"x\"},\"y\":{\"type\":\"value\",\"value\":1.6111643314457555e-09},\"line_color\":\"#de3163ff\",\"line_alpha\":0.2,\"line_width\":2}}}},{\"type\":\"object\",\"name\":\"GlyphRenderer\",\"id\":\"p1395\",\"attributes\":{\"data_source\":{\"type\":\"object\",\"name\":\"ColumnDataSource\",\"id\":\"p1389\",\"attributes\":{\"selected\":{\"type\":\"object\",\"name\":\"Selection\",\"id\":\"p1390\",\"attributes\":{\"indices\":[],\"line_indices\":[]}},\"selection_policy\":{\"type\":\"object\",\"name\":\"UnionRenderers\",\"id\":\"p1391\"},\"data\":{\"type\":\"map\",\"entries\":[[\"x\",{\"type\":\"ndarray\",\"array\":{\"type\":\"bytes\",\"data\":\"G9b/OcyXJz9vIpYCkggsPzKr+0impzA/3TdKciDKMz94ANggpIM3P0938rWe8Ds/i8Zfo2uZQD++CRs0OLlDP3cwN0CNb0c/u5aU37/YSz+B2NslPYtQP37nwGdeqFM/vvlmiYdbVz/lLwFu9cBbP1UQDcYafWA/YZPkAJOXYz/Kgb3tkkdnP3Lhy08/qWs/t3yZeQRvcD/EWjnz1YZzPzJ1nV6vM3c/4SyXc52Rez9oBDA2+mCAPxQNfTIndoM/8vx1zdwfhz98aRTID3qLP4peiPH7UpA/9PJ3soZlkz/Is8IrGwyXPxG4AzyWYps/LQtjoQlFoD8Jxfxm9FSjP4WbC2tq+KY/C/YzvjBLqz+8S4k7IzewP1aj6ENwRLM/fhLlfMrktj/zsII93zO7P4sbzbVIKcA/LgwjPfozwz/1yO9SO9HGP+cZ3KihHMs/YygJBnob0D9i051GkiPTP6C22N68vdY/Dfk673cF2z8RyyAitw3gP3QZVVQ4E+M/GxBZEk+q5j8hoaj/Ye7qPwAAAAAAAPA/\"},\"shape\":[51],\"dtype\":\"float64\",\"order\":\"little\"}],[\"y\",{\"type\":\"ndarray\",\"array\":{\"type\":\"bytes\",\"data\":\"wRvnUkBmHT7Hv6B6gL0dPiqvYccTJx4+PZbroEenHj5BbdPOn0MfPrEaZqiiASA+UmCc09N3ID4BhImFtgohPrpsj83wwiE+TAKmh5ysIj7wBT7THNkjPuMmgZA1YiU+JSntPXpvJz46Lw30TkAqPncIpgVOPy4+Vgt16/wUMj5oex0w3bI2Pg1IoN01Wj4+iUn1U5TSRT4XYCZTrjZQPuh66dVsuVM+0jWg/aAuTD69ou0XxD4/PriJmBDWsjY+RSgQ/o2aMj6hqT1iaswvPrZxW/c/GCw+0q+S9AOZKT7R5sANU/8nPsoXQR1DHSc+AvjtMAbgJj5giTEyRUwnPtJT0sopgSg+8TgHDn/FKj6yECdXYKkuPvOZNvH0rTI+CXg5qjDPOD4zED/7drxCPrS1YPQHL1E+N8ucKvfiYz7jHhO5E7N+PouPZPX3uaQ+Xgog8S3n4D4lHywFl4sOP1Cd5Z/4+SY/gUxe6krrOT9PEkgeN6lJP/3ZRKAym1c/Zcb9u4O/ZD96fVOCbLZxP/qEYs6Sqn0/\"},\"shape\":[51],\"dtype\":\"float64\",\"order\":\"little\"}]]}}},\"view\":{\"type\":\"object\",\"name\":\"CDSView\",\"id\":\"p1396\",\"attributes\":{\"filter\":{\"type\":\"object\",\"name\":\"AllIndices\",\"id\":\"p1397\"}}},\"glyph\":{\"type\":\"object\",\"name\":\"Line\",\"id\":\"p1392\",\"attributes\":{\"x\":{\"type\":\"field\",\"field\":\"x\"},\"y\":{\"type\":\"field\",\"field\":\"y\"},\"line_color\":\"#ff6700ff\",\"line_width\":2}},\"nonselection_glyph\":{\"type\":\"object\",\"name\":\"Line\",\"id\":\"p1393\",\"attributes\":{\"x\":{\"type\":\"field\",\"field\":\"x\"},\"y\":{\"type\":\"field\",\"field\":\"y\"},\"line_color\":\"#ff6700ff\",\"line_alpha\":0.1,\"line_width\":2}},\"muted_glyph\":{\"type\":\"object\",\"name\":\"Line\",\"id\":\"p1394\",\"attributes\":{\"x\":{\"type\":\"field\",\"field\":\"x\"},\"y\":{\"type\":\"field\",\"field\":\"y\"},\"line_color\":\"#ff6700ff\",\"line_alpha\":0.2,\"line_width\":2}}}},{\"type\":\"object\",\"name\":\"GlyphRenderer\",\"id\":\"p1405\",\"attributes\":{\"data_source\":{\"type\":\"object\",\"name\":\"ColumnDataSource\",\"id\":\"p1399\",\"attributes\":{\"selected\":{\"type\":\"object\",\"name\":\"Selection\",\"id\":\"p1400\",\"attributes\":{\"indices\":[],\"line_indices\":[]}},\"selection_policy\":{\"type\":\"object\",\"name\":\"UnionRenderers\",\"id\":\"p1401\"},\"data\":{\"type\":\"map\",\"entries\":[[\"x\",{\"type\":\"ndarray\",\"array\":{\"type\":\"bytes\",\"data\":\"G9b/OcyXJz9vIpYCkggsPzKr+0impzA/3TdKciDKMz94ANggpIM3P0938rWe8Ds/i8Zfo2uZQD++CRs0OLlDP3cwN0CNb0c/u5aU37/YSz+B2NslPYtQP37nwGdeqFM/vvlmiYdbVz/lLwFu9cBbP1UQDcYafWA/YZPkAJOXYz/Kgb3tkkdnP3Lhy08/qWs/t3yZeQRvcD/EWjnz1YZzPzJ1nV6vM3c/4SyXc52Rez9oBDA2+mCAPxQNfTIndoM/8vx1zdwfhz98aRTID3qLP4peiPH7UpA/9PJ3soZlkz/Is8IrGwyXPxG4AzyWYps/LQtjoQlFoD8Jxfxm9FSjP4WbC2tq+KY/C/YzvjBLqz+8S4k7IzewP1aj6ENwRLM/fhLlfMrktj/zsII93zO7P4sbzbVIKcA/LgwjPfozwz/1yO9SO9HGP+cZ3KihHMs/YygJBnob0D9i051GkiPTP6C22N68vdY/Dfk673cF2z8RyyAitw3gP3QZVVQ4E+M/GxBZEk+q5j8hoaj/Ye7qPwAAAAAAAPA/\"},\"shape\":[51],\"dtype\":\"float64\",\"order\":\"little\"}],[\"y\",{\"type\":\"ndarray\",\"array\":{\"type\":\"bytes\",\"data\":\"J4I8qUqtGz5S/ty1Ka0bPuGZnI8CrRs+v8sgDNSsGz4vGQnJnKwbPgGHcSFbrBs+fDuBIQ2sGz5bmKl3sKsbPoG5KWNCqxs+qEtXn7+qGz7bqhdLJKobPurP2strqRs+n5dMq5CoGz4E3c9ujKcbPkwPsmdXphs+dB3deuikGz4R5KHeNKMbPk9rCM0voRs+apXpKMqeGz7NRvwT8psbPh7rJXSSmBs+DZPBZ5KUGz4PY7Wx1I8bPv1qbjA3ihs+GrUPj5GDGz5flnAgtHsbPvPV7IRnchs+6X83MGxnGz5Q7tZLelobPiMUBaM7Sxs+BUgRZlY5Gz4mIs/jZiQbPnUkvekYDBs+Sf+vV5LwGj4OU6jsMN0aPm6g700rgBw+IU8tjkc2Hz4ct43U7DIhPqZ9BqyeFCM+rlRym/lRJT5ZJd1bCAIoPj1HzMvJQis+xXgDjn07Lz4gzRg/8A8yPlThH/VyGjU+sEoPuZXrOD5ftS49QcE9PloPyX1z90E+EGqeagn0RT7iBs7iACRLPhsJrr2a+VA+\"},\"shape\":[51],\"dtype\":\"float64\",\"order\":\"little\"}]]}}},\"view\":{\"type\":\"object\",\"name\":\"CDSView\",\"id\":\"p1406\",\"attributes\":{\"filter\":{\"type\":\"object\",\"name\":\"AllIndices\",\"id\":\"p1407\"}}},\"glyph\":{\"type\":\"object\",\"name\":\"Line\",\"id\":\"p1402\",\"attributes\":{\"x\":{\"type\":\"field\",\"field\":\"x\"},\"y\":{\"type\":\"field\",\"field\":\"y\"},\"line_color\":\"#48d1ccff\",\"line_width\":2}},\"nonselection_glyph\":{\"type\":\"object\",\"name\":\"Line\",\"id\":\"p1403\",\"attributes\":{\"x\":{\"type\":\"field\",\"field\":\"x\"},\"y\":{\"type\":\"field\",\"field\":\"y\"},\"line_color\":\"#48d1ccff\",\"line_alpha\":0.1,\"line_width\":2}},\"muted_glyph\":{\"type\":\"object\",\"name\":\"Line\",\"id\":\"p1404\",\"attributes\":{\"x\":{\"type\":\"field\",\"field\":\"x\"},\"y\":{\"type\":\"field\",\"field\":\"y\"},\"line_color\":\"#48d1ccff\",\"line_alpha\":0.2,\"line_width\":2}}}},{\"type\":\"object\",\"name\":\"GlyphRenderer\",\"id\":\"p1415\",\"attributes\":{\"data_source\":{\"type\":\"object\",\"name\":\"ColumnDataSource\",\"id\":\"p1409\",\"attributes\":{\"selected\":{\"type\":\"object\",\"name\":\"Selection\",\"id\":\"p1410\",\"attributes\":{\"indices\":[],\"line_indices\":[]}},\"selection_policy\":{\"type\":\"object\",\"name\":\"UnionRenderers\",\"id\":\"p1411\"},\"data\":{\"type\":\"map\",\"entries\":[[\"x\",{\"type\":\"ndarray\",\"array\":{\"type\":\"bytes\",\"data\":\"G9b/OcyXJz9vIpYCkggsPzKr+0impzA/3TdKciDKMz94ANggpIM3P0938rWe8Ds/i8Zfo2uZQD++CRs0OLlDP3cwN0CNb0c/u5aU37/YSz+B2NslPYtQP37nwGdeqFM/vvlmiYdbVz/lLwFu9cBbP1UQDcYafWA/YZPkAJOXYz/Kgb3tkkdnP3Lhy08/qWs/t3yZeQRvcD/EWjnz1YZzPzJ1nV6vM3c/4SyXc52Rez9oBDA2+mCAPxQNfTIndoM/8vx1zdwfhz98aRTID3qLP4peiPH7UpA/9PJ3soZlkz/Is8IrGwyXPxG4AzyWYps/LQtjoQlFoD8Jxfxm9FSjP4WbC2tq+KY/C/YzvjBLqz+8S4k7IzewP1aj6ENwRLM/fhLlfMrktj/zsII93zO7P4sbzbVIKcA/LgwjPfozwz/1yO9SO9HGP+cZ3KihHMs/YygJBnob0D9i051GkiPTP6C22N68vdY/Dfk673cF2z8RyyAitw3gP3QZVVQ4E+M/GxBZEk+q5j8hoaj/Ye7qPwAAAAAAAPA/\"},\"shape\":[51],\"dtype\":\"float64\",\"order\":\"little\"}]]}}},\"view\":{\"type\":\"object\",\"name\":\"CDSView\",\"id\":\"p1416\",\"attributes\":{\"filter\":{\"type\":\"object\",\"name\":\"AllIndices\",\"id\":\"p1417\"}}},\"glyph\":{\"type\":\"object\",\"name\":\"Line\",\"id\":\"p1412\",\"attributes\":{\"x\":{\"type\":\"field\",\"field\":\"x\"},\"y\":{\"type\":\"value\",\"value\":1.8700884895375116e-06},\"line_color\":\"#32cd32ff\",\"line_width\":2}},\"nonselection_glyph\":{\"type\":\"object\",\"name\":\"Line\",\"id\":\"p1413\",\"attributes\":{\"x\":{\"type\":\"field\",\"field\":\"x\"},\"y\":{\"type\":\"value\",\"value\":1.8700884895375116e-06},\"line_color\":\"#32cd32ff\",\"line_alpha\":0.1,\"line_width\":2}},\"muted_glyph\":{\"type\":\"object\",\"name\":\"Line\",\"id\":\"p1414\",\"attributes\":{\"x\":{\"type\":\"field\",\"field\":\"x\"},\"y\":{\"type\":\"value\",\"value\":1.8700884895375116e-06},\"line_color\":\"#32cd32ff\",\"line_alpha\":0.2,\"line_width\":2}}}}],\"toolbar\":{\"type\":\"object\",\"name\":\"Toolbar\",\"id\":\"p1352\",\"attributes\":{\"tools\":[{\"type\":\"object\",\"name\":\"PanTool\",\"id\":\"p1367\"},{\"type\":\"object\",\"name\":\"BoxZoomTool\",\"id\":\"p1368\",\"attributes\":{\"overlay\":{\"type\":\"object\",\"name\":\"BoxAnnotation\",\"id\":\"p1369\",\"attributes\":{\"syncable\":false,\"level\":\"overlay\",\"visible\":false,\"left\":{\"type\":\"number\",\"value\":\"nan\"},\"right\":{\"type\":\"number\",\"value\":\"nan\"},\"top\":{\"type\":\"number\",\"value\":\"nan\"},\"bottom\":{\"type\":\"number\",\"value\":\"nan\"},\"left_units\":\"canvas\",\"right_units\":\"canvas\",\"top_units\":\"canvas\",\"bottom_units\":\"canvas\",\"line_color\":\"black\",\"line_alpha\":1.0,\"line_width\":2,\"line_dash\":[4,4],\"fill_color\":\"lightgrey\",\"fill_alpha\":0.5}}}},{\"type\":\"object\",\"name\":\"HoverTool\",\"id\":\"p1374\",\"attributes\":{\"renderers\":\"auto\"}},{\"type\":\"object\",\"name\":\"ResetTool\",\"id\":\"p1375\"},{\"type\":\"object\",\"name\":\"SaveTool\",\"id\":\"p1376\"}]}},\"left\":[{\"type\":\"object\",\"name\":\"LogAxis\",\"id\":\"p1362\",\"attributes\":{\"ticker\":{\"type\":\"object\",\"name\":\"FixedTicker\",\"id\":\"p1420\",\"attributes\":{\"ticks\":{\"type\":\"ndarray\",\"array\":{\"type\":\"bytes\",\"data\":\"ldYm6AsuET5Ir7ya8td6PvFo44i1+OQ+/Knx0k1iUD+amZmZmZm5Pw==\"},\"shape\":[5],\"dtype\":\"float64\",\"order\":\"little\"},\"minor_ticks\":[]}},\"formatter\":{\"type\":\"object\",\"name\":\"LogTickFormatter\",\"id\":\"p1364\"},\"axis_label\":\"\\u03c1, robustness to comp.[nM-2]\",\"axis_label_standoff\":10,\"axis_label_text_color\":\"#5B5B5B\",\"axis_label_text_font\":\"Helvetica\",\"axis_label_text_font_size\":\"8pt\",\"axis_label_text_font_style\":\"normal\",\"major_label_policy\":{\"type\":\"object\",\"name\":\"AllLabels\",\"id\":\"p1365\"},\"major_label_text_color\":\"#5B5B5B\",\"major_label_text_font\":\"Helvetica\",\"major_label_text_font_size\":\"8pt\",\"axis_line_color\":\"#5B5B5B\",\"axis_line_alpha\":0,\"major_tick_line_color\":\"#5B5B5B\",\"major_tick_line_alpha\":0,\"minor_tick_line_color\":\"#5B5B5B\",\"minor_tick_line_alpha\":0}}],\"below\":[{\"type\":\"object\",\"name\":\"LogAxis\",\"id\":\"p1357\",\"attributes\":{\"ticker\":{\"type\":\"object\",\"name\":\"FixedTicker\",\"id\":\"p1419\",\"attributes\":{\"ticks\":[1e-05,0.0001,0.001,0.01,0.1,1],\"minor_ticks\":[]}},\"formatter\":{\"type\":\"object\",\"name\":\"LogTickFormatter\",\"id\":\"p1359\"},\"axis_label\":\"ui, induction of interfering gRNA gene\",\"axis_label_standoff\":10,\"axis_label_text_color\":\"#5B5B5B\",\"axis_label_text_font\":\"Helvetica\",\"axis_label_text_font_size\":\"8pt\",\"axis_label_text_font_style\":\"normal\",\"major_label_policy\":{\"type\":\"object\",\"name\":\"AllLabels\",\"id\":\"p1360\"},\"major_label_text_color\":\"#5B5B5B\",\"major_label_text_font\":\"Helvetica\",\"major_label_text_font_size\":\"8pt\",\"axis_line_color\":\"#5B5B5B\",\"axis_line_alpha\":0,\"major_tick_line_color\":\"#5B5B5B\",\"major_tick_line_alpha\":0,\"minor_tick_line_color\":\"#5B5B5B\",\"minor_tick_line_alpha\":0}}],\"center\":[{\"type\":\"object\",\"name\":\"Grid\",\"id\":\"p1361\",\"attributes\":{\"axis\":{\"id\":\"p1357\"}}},{\"type\":\"object\",\"name\":\"Grid\",\"id\":\"p1366\",\"attributes\":{\"dimension\":1,\"axis\":{\"id\":\"p1362\"}}},{\"type\":\"object\",\"name\":\"Span\",\"id\":\"p1377\",\"attributes\":{\"location\":0.01,\"dimension\":\"height\",\"line_width\":2,\"line_dash\":[2,4]}},{\"type\":\"object\",\"name\":\"Legend\",\"id\":\"p1387\",\"attributes\":{\"location\":\"top_left\",\"border_line_color\":\"gray\",\"border_line_alpha\":0.3,\"background_fill_color\":\"white\",\"background_fill_alpha\":1,\"label_text_color\":\"#5B5B5B\",\"label_text_font\":\"Helvetica\",\"label_text_font_size\":\"8pt\",\"label_standoff\":8,\"glyph_width\":15,\"margin\":2,\"padding\":2,\"spacing\":0,\"items\":[{\"type\":\"object\",\"name\":\"LegendItem\",\"id\":\"p1388\",\"attributes\":{\"label\":{\"type\":\"value\",\"value\":\"Basic\"},\"renderers\":[{\"id\":\"p1384\"}]}},{\"type\":\"object\",\"name\":\"LegendItem\",\"id\":\"p1398\",\"attributes\":{\"label\":{\"type\":\"value\",\"value\":\"SR\"},\"renderers\":[{\"id\":\"p1395\"}]}},{\"type\":\"object\",\"name\":\"LegendItem\",\"id\":\"p1408\",\"attributes\":{\"label\":{\"type\":\"value\",\"value\":\"Off-target\"},\"renderers\":[{\"id\":\"p1405\"}]}},{\"type\":\"object\",\"name\":\"LegendItem\",\"id\":\"p1418\",\"attributes\":{\"label\":{\"type\":\"value\",\"value\":\"dCas9 fbck\"},\"renderers\":[{\"id\":\"p1415\"}]}}]}}],\"frame_width\":256,\"frame_height\":144,\"output_backend\":\"svg\"}},0,0,1,1],[{\"type\":\"object\",\"name\":\"Figure\",\"id\":\"p1267\",\"attributes\":{\"x_range\":{\"type\":\"object\",\"name\":\"Range1d\",\"id\":\"p1276\",\"attributes\":{\"start\":0.00018}},\"y_range\":{\"type\":\"object\",\"name\":\"Range1d\",\"id\":\"p1277\",\"attributes\":{\"start\":10,\"end\":100000.0}},\"x_scale\":{\"type\":\"object\",\"name\":\"LogScale\",\"id\":\"p1278\"},\"y_scale\":{\"type\":\"object\",\"name\":\"LogScale\",\"id\":\"p1279\"},\"title\":{\"type\":\"object\",\"name\":\"Title\",\"id\":\"p1274\",\"attributes\":{\"text_color\":\"#5B5B5B\",\"text_font\":\"Helvetica\",\"text_font_size\":\"8pt\"}},\"renderers\":[{\"type\":\"object\",\"name\":\"GlyphRenderer\",\"id\":\"p1307\",\"attributes\":{\"data_source\":{\"type\":\"object\",\"name\":\"ColumnDataSource\",\"id\":\"p1301\",\"attributes\":{\"selected\":{\"type\":\"object\",\"name\":\"Selection\",\"id\":\"p1302\",\"attributes\":{\"indices\":[],\"line_indices\":[]}},\"selection_policy\":{\"type\":\"object\",\"name\":\"UnionRenderers\",\"id\":\"p1303\"},\"data\":{\"type\":\"map\",\"entries\":[[\"x\",{\"type\":\"ndarray\",\"array\":{\"type\":\"bytes\",\"data\":\"G9b/OcyXJz9vIpYCkggsPzKr+0impzA/3TdKciDKMz94ANggpIM3P0938rWe8Ds/i8Zfo2uZQD++CRs0OLlDP3cwN0CNb0c/u5aU37/YSz+B2NslPYtQP37nwGdeqFM/vvlmiYdbVz/lLwFu9cBbP1UQDcYafWA/YZPkAJOXYz/Kgb3tkkdnP3Lhy08/qWs/t3yZeQRvcD/EWjnz1YZzPzJ1nV6vM3c/4SyXc52Rez9oBDA2+mCAPxQNfTIndoM/8vx1zdwfhz98aRTID3qLP4peiPH7UpA/9PJ3soZlkz/Is8IrGwyXPxG4AzyWYps/LQtjoQlFoD8Jxfxm9FSjP4WbC2tq+KY/C/YzvjBLqz+8S4k7IzewP1aj6ENwRLM/fhLlfMrktj/zsII93zO7P4sbzbVIKcA/LgwjPfozwz/1yO9SO9HGP+cZ3KihHMs/YygJBnob0D9i051GkiPTP6C22N68vdY/Dfk673cF2z8RyyAitw3gP3QZVVQ4E+M/GxBZEk+q5j8hoaj/Ye7qPwAAAAAAAPA/\"},\"shape\":[51],\"dtype\":\"float64\",\"order\":\"little\"}]]}}},\"view\":{\"type\":\"object\",\"name\":\"CDSView\",\"id\":\"p1308\",\"attributes\":{\"filter\":{\"type\":\"object\",\"name\":\"AllIndices\",\"id\":\"p1309\"}}},\"glyph\":{\"type\":\"object\",\"name\":\"Line\",\"id\":\"p1304\",\"attributes\":{\"x\":{\"type\":\"field\",\"field\":\"x\"},\"y\":{\"type\":\"value\",\"value\":14.017547875133399},\"line_color\":\"#de3163ff\",\"line_width\":2}},\"nonselection_glyph\":{\"type\":\"object\",\"name\":\"Line\",\"id\":\"p1305\",\"attributes\":{\"x\":{\"type\":\"field\",\"field\":\"x\"},\"y\":{\"type\":\"value\",\"value\":14.017547875133399},\"line_color\":\"#de3163ff\",\"line_alpha\":0.1,\"line_width\":2}},\"muted_glyph\":{\"type\":\"object\",\"name\":\"Line\",\"id\":\"p1306\",\"attributes\":{\"x\":{\"type\":\"field\",\"field\":\"x\"},\"y\":{\"type\":\"value\",\"value\":14.017547875133399},\"line_color\":\"#de3163ff\",\"line_alpha\":0.2,\"line_width\":2}}}},{\"type\":\"object\",\"name\":\"GlyphRenderer\",\"id\":\"p1318\",\"attributes\":{\"data_source\":{\"type\":\"object\",\"name\":\"ColumnDataSource\",\"id\":\"p1312\",\"attributes\":{\"selected\":{\"type\":\"object\",\"name\":\"Selection\",\"id\":\"p1313\",\"attributes\":{\"indices\":[],\"line_indices\":[]}},\"selection_policy\":{\"type\":\"object\",\"name\":\"UnionRenderers\",\"id\":\"p1314\"},\"data\":{\"type\":\"map\",\"entries\":[[\"x\",{\"type\":\"ndarray\",\"array\":{\"type\":\"bytes\",\"data\":\"G9b/OcyXJz9vIpYCkggsPzKr+0impzA/3TdKciDKMz94ANggpIM3P0938rWe8Ds/i8Zfo2uZQD++CRs0OLlDP3cwN0CNb0c/u5aU37/YSz+B2NslPYtQP37nwGdeqFM/vvlmiYdbVz/lLwFu9cBbP1UQDcYafWA/YZPkAJOXYz/Kgb3tkkdnP3Lhy08/qWs/t3yZeQRvcD/EWjnz1YZzPzJ1nV6vM3c/4SyXc52Rez9oBDA2+mCAPxQNfTIndoM/8vx1zdwfhz98aRTID3qLP4peiPH7UpA/9PJ3soZlkz/Is8IrGwyXPxG4AzyWYps/LQtjoQlFoD8Jxfxm9FSjP4WbC2tq+KY/C/YzvjBLqz+8S4k7IzewP1aj6ENwRLM/fhLlfMrktj/zsII93zO7P4sbzbVIKcA/LgwjPfozwz/1yO9SO9HGP+cZ3KihHMs/YygJBnob0D9i051GkiPTP6C22N68vdY/Dfk673cF2z8RyyAitw3gP3QZVVQ4E+M/GxBZEk+q5j8hoaj/Ye7qPwAAAAAAAPA/\"},\"shape\":[51],\"dtype\":\"float64\",\"order\":\"little\"}],[\"y\",{\"type\":\"ndarray\",\"array\":{\"type\":\"bytes\",\"data\":\"oyUZEd+hLEAFHrjqbr8sQGh6ksPk4ixAgMVH+YENLUBEeFoQ1UAtQDoHwBbQfi1AK0gpPefJLUAZYdZ0OyUuQBzvHQvXlC5AmkM/5gUeL0DzVyNu2ccvQB9kDeT5TTBANyThBObTMEABbjppZH8xQNQIQaX1XjJA3jKYTEuJM0A5TrH9AyQ1QJ9zielXcjdAIHhc2Dr5OkBecdWldXRAQNMQkiYpVkZAYCLRPkpGU0B1VFP0jpxwQA9RUXNuPpBAqWFEo5OKoECBwepG7FyqQPZij779xLJAiiEkdzkIuUBOjDWxD++/QAGWNacCsMNAnSSDRuGTx0DeUpp1EXbLQNYRSuUpDc9A38Cj+pDz0ECmUA6W16vRQP8dm4hCjNBAajPYpKbjyED/o6h4bP28QCSW2JoK6qFAobDDfgfZhUC1Lo7Of/p2QO+9gnUwGG5AgKjwBkTZZUCrofMXq9VgQNqNUoeK+lpAfB7OshE9VkCaD2vpMb1SQJTXW2YIFFBAGtmqzYsFTECh/oDAiMFIQIXgWsvrJEZA\"},\"shape\":[51],\"dtype\":\"float64\",\"order\":\"little\"}]]}}},\"view\":{\"type\":\"object\",\"name\":\"CDSView\",\"id\":\"p1319\",\"attributes\":{\"filter\":{\"type\":\"object\",\"name\":\"AllIndices\",\"id\":\"p1320\"}}},\"glyph\":{\"type\":\"object\",\"name\":\"Line\",\"id\":\"p1315\",\"attributes\":{\"x\":{\"type\":\"field\",\"field\":\"x\"},\"y\":{\"type\":\"field\",\"field\":\"y\"},\"line_color\":\"#ff6700ff\",\"line_width\":2}},\"nonselection_glyph\":{\"type\":\"object\",\"name\":\"Line\",\"id\":\"p1316\",\"attributes\":{\"x\":{\"type\":\"field\",\"field\":\"x\"},\"y\":{\"type\":\"field\",\"field\":\"y\"},\"line_color\":\"#ff6700ff\",\"line_alpha\":0.1,\"line_width\":2}},\"muted_glyph\":{\"type\":\"object\",\"name\":\"Line\",\"id\":\"p1317\",\"attributes\":{\"x\":{\"type\":\"field\",\"field\":\"x\"},\"y\":{\"type\":\"field\",\"field\":\"y\"},\"line_color\":\"#ff6700ff\",\"line_alpha\":0.2,\"line_width\":2}}}},{\"type\":\"object\",\"name\":\"GlyphRenderer\",\"id\":\"p1328\",\"attributes\":{\"data_source\":{\"type\":\"object\",\"name\":\"ColumnDataSource\",\"id\":\"p1322\",\"attributes\":{\"selected\":{\"type\":\"object\",\"name\":\"Selection\",\"id\":\"p1323\",\"attributes\":{\"indices\":[],\"line_indices\":[]}},\"selection_policy\":{\"type\":\"object\",\"name\":\"UnionRenderers\",\"id\":\"p1324\"},\"data\":{\"type\":\"map\",\"entries\":[[\"x\",{\"type\":\"ndarray\",\"array\":{\"type\":\"bytes\",\"data\":\"G9b/OcyXJz9vIpYCkggsPzKr+0impzA/3TdKciDKMz94ANggpIM3P0938rWe8Ds/i8Zfo2uZQD++CRs0OLlDP3cwN0CNb0c/u5aU37/YSz+B2NslPYtQP37nwGdeqFM/vvlmiYdbVz/lLwFu9cBbP1UQDcYafWA/YZPkAJOXYz/Kgb3tkkdnP3Lhy08/qWs/t3yZeQRvcD/EWjnz1YZzPzJ1nV6vM3c/4SyXc52Rez9oBDA2+mCAPxQNfTIndoM/8vx1zdwfhz98aRTID3qLP4peiPH7UpA/9PJ3soZlkz/Is8IrGwyXPxG4AzyWYps/LQtjoQlFoD8Jxfxm9FSjP4WbC2tq+KY/C/YzvjBLqz+8S4k7IzewP1aj6ENwRLM/fhLlfMrktj/zsII93zO7P4sbzbVIKcA/LgwjPfozwz/1yO9SO9HGP+cZ3KihHMs/YygJBnob0D9i051GkiPTP6C22N68vdY/Dfk673cF2z8RyyAitw3gP3QZVVQ4E+M/GxBZEk+q5j8hoaj/Ye7qPwAAAAAAAPA/\"},\"shape\":[51],\"dtype\":\"float64\",\"order\":\"little\"}],[\"y\",{\"type\":\"ndarray\",\"array\":{\"type\":\"bytes\",\"data\":\"188FFvwILECiAoAY/AgsQA8AdBv8CCxACM35HvwILEDuHC4j/AgsQEzrMyj8CCxANZY1LvwILEDTgGY1/AgsQMePBT78CCxAwONfSPwILED1rNRU/AgsQKPt2WP8CCxAkAYDdvwILEA4ZwmM/AgsQGYt2Kb8CCxAcz6cx/wILEAdb9rv/AgsQAaZjiH9CCxAudxXX/0ILEDTZris/QgsQPThcg7+CCxAifwVi/4ILEAXVdAr/wgsQFUTu/3/CCxAV7PqEwEJLEANftiKAgksQFdjP44ECSxAST+rYwcJLEB/AKh+CwksQKz9YaoRCSxAZA+FaBsJLEBoH1PpKwksQNZJTiVLCSxAR8R1r5MJLEDNbsBisAosQEFdOHiycCxA4u/eRE3JLUCrx/0NXAkvQDH/c6piFjBAAV0OCamZMECYMEfx3A4xQMZyh5apdjFAldab/e/RMUAnYRLmsSEyQOkT44UAZzJAaUv+Ce+iMkAiNhOdiNYyQKFacoLJAjNACm/pt5ooM0BuvOuLz0gzQEIMFJ0kZDNA\"},\"shape\":[51],\"dtype\":\"float64\",\"order\":\"little\"}]]}}},\"view\":{\"type\":\"object\",\"name\":\"CDSView\",\"id\":\"p1329\",\"attributes\":{\"filter\":{\"type\":\"object\",\"name\":\"AllIndices\",\"id\":\"p1330\"}}},\"glyph\":{\"type\":\"object\",\"name\":\"Line\",\"id\":\"p1325\",\"attributes\":{\"x\":{\"type\":\"field\",\"field\":\"x\"},\"y\":{\"type\":\"field\",\"field\":\"y\"},\"line_color\":\"#48d1ccff\",\"line_width\":2}},\"nonselection_glyph\":{\"type\":\"object\",\"name\":\"Line\",\"id\":\"p1326\",\"attributes\":{\"x\":{\"type\":\"field\",\"field\":\"x\"},\"y\":{\"type\":\"field\",\"field\":\"y\"},\"line_color\":\"#48d1ccff\",\"line_alpha\":0.1,\"line_width\":2}},\"muted_glyph\":{\"type\":\"object\",\"name\":\"Line\",\"id\":\"p1327\",\"attributes\":{\"x\":{\"type\":\"field\",\"field\":\"x\"},\"y\":{\"type\":\"field\",\"field\":\"y\"},\"line_color\":\"#48d1ccff\",\"line_alpha\":0.2,\"line_width\":2}}}},{\"type\":\"object\",\"name\":\"GlyphRenderer\",\"id\":\"p1338\",\"attributes\":{\"data_source\":{\"type\":\"object\",\"name\":\"ColumnDataSource\",\"id\":\"p1332\",\"attributes\":{\"selected\":{\"type\":\"object\",\"name\":\"Selection\",\"id\":\"p1333\",\"attributes\":{\"indices\":[],\"line_indices\":[]}},\"selection_policy\":{\"type\":\"object\",\"name\":\"UnionRenderers\",\"id\":\"p1334\"},\"data\":{\"type\":\"map\",\"entries\":[[\"x\",{\"type\":\"ndarray\",\"array\":{\"type\":\"bytes\",\"data\":\"G9b/OcyXJz9vIpYCkggsPzKr+0impzA/3TdKciDKMz94ANggpIM3P0938rWe8Ds/i8Zfo2uZQD++CRs0OLlDP3cwN0CNb0c/u5aU37/YSz+B2NslPYtQP37nwGdeqFM/vvlmiYdbVz/lLwFu9cBbP1UQDcYafWA/YZPkAJOXYz/Kgb3tkkdnP3Lhy08/qWs/t3yZeQRvcD/EWjnz1YZzPzJ1nV6vM3c/4SyXc52Rez9oBDA2+mCAPxQNfTIndoM/8vx1zdwfhz98aRTID3qLP4peiPH7UpA/9PJ3soZlkz/Is8IrGwyXPxG4AzyWYps/LQtjoQlFoD8Jxfxm9FSjP4WbC2tq+KY/C/YzvjBLqz+8S4k7IzewP1aj6ENwRLM/fhLlfMrktj/zsII93zO7P4sbzbVIKcA/LgwjPfozwz/1yO9SO9HGP+cZ3KihHMs/YygJBnob0D9i051GkiPTP6C22N68vdY/Dfk673cF2z8RyyAitw3gP3QZVVQ4E+M/GxBZEk+q5j8hoaj/Ye7qPwAAAAAAAPA/\"},\"shape\":[51],\"dtype\":\"float64\",\"order\":\"little\"}]]}}},\"view\":{\"type\":\"object\",\"name\":\"CDSView\",\"id\":\"p1339\",\"attributes\":{\"filter\":{\"type\":\"object\",\"name\":\"AllIndices\",\"id\":\"p1340\"}}},\"glyph\":{\"type\":\"object\",\"name\":\"Line\",\"id\":\"p1335\",\"attributes\":{\"x\":{\"type\":\"field\",\"field\":\"x\"},\"y\":{\"type\":\"value\",\"value\":19.81184582297404},\"line_color\":\"#32cd32ff\",\"line_width\":2}},\"nonselection_glyph\":{\"type\":\"object\",\"name\":\"Line\",\"id\":\"p1336\",\"attributes\":{\"x\":{\"type\":\"field\",\"field\":\"x\"},\"y\":{\"type\":\"value\",\"value\":19.81184582297404},\"line_color\":\"#32cd32ff\",\"line_alpha\":0.1,\"line_width\":2}},\"muted_glyph\":{\"type\":\"object\",\"name\":\"Line\",\"id\":\"p1337\",\"attributes\":{\"x\":{\"type\":\"field\",\"field\":\"x\"},\"y\":{\"type\":\"value\",\"value\":19.81184582297404},\"line_color\":\"#32cd32ff\",\"line_alpha\":0.2,\"line_width\":2}}}}],\"toolbar\":{\"type\":\"object\",\"name\":\"Toolbar\",\"id\":\"p1275\",\"attributes\":{\"tools\":[{\"type\":\"object\",\"name\":\"PanTool\",\"id\":\"p1290\"},{\"type\":\"object\",\"name\":\"BoxZoomTool\",\"id\":\"p1291\",\"attributes\":{\"overlay\":{\"type\":\"object\",\"name\":\"BoxAnnotation\",\"id\":\"p1292\",\"attributes\":{\"syncable\":false,\"level\":\"overlay\",\"visible\":false,\"left\":{\"type\":\"number\",\"value\":\"nan\"},\"right\":{\"type\":\"number\",\"value\":\"nan\"},\"top\":{\"type\":\"number\",\"value\":\"nan\"},\"bottom\":{\"type\":\"number\",\"value\":\"nan\"},\"left_units\":\"canvas\",\"right_units\":\"canvas\",\"top_units\":\"canvas\",\"bottom_units\":\"canvas\",\"line_color\":\"black\",\"line_alpha\":1.0,\"line_width\":2,\"line_dash\":[4,4],\"fill_color\":\"lightgrey\",\"fill_alpha\":0.5}}}},{\"type\":\"object\",\"name\":\"HoverTool\",\"id\":\"p1297\",\"attributes\":{\"renderers\":\"auto\"}},{\"type\":\"object\",\"name\":\"ResetTool\",\"id\":\"p1298\"},{\"type\":\"object\",\"name\":\"SaveTool\",\"id\":\"p1299\"}]}},\"left\":[{\"type\":\"object\",\"name\":\"LogAxis\",\"id\":\"p1285\",\"attributes\":{\"ticker\":{\"type\":\"object\",\"name\":\"FixedTicker\",\"id\":\"p1343\",\"attributes\":{\"ticks\":{\"type\":\"ndarray\",\"array\":{\"type\":\"bytes\",\"data\":\"AAAAAAAAJEAAAAAAAABZQAAAAAAAQI9AAAAAAACIw0AAAAAAAGr4QA==\"},\"shape\":[5],\"dtype\":\"float64\",\"order\":\"little\"},\"minor_ticks\":[]}},\"formatter\":{\"type\":\"object\",\"name\":\"LogTickFormatter\",\"id\":\"p1287\"},\"axis_label\":\"Output prot. conc. fold-change\",\"axis_label_standoff\":10,\"axis_label_text_color\":\"#5B5B5B\",\"axis_label_text_font\":\"Helvetica\",\"axis_label_text_font_size\":\"8pt\",\"axis_label_text_font_style\":\"normal\",\"major_label_policy\":{\"type\":\"object\",\"name\":\"AllLabels\",\"id\":\"p1288\"},\"major_label_text_color\":\"#5B5B5B\",\"major_label_text_font\":\"Helvetica\",\"major_label_text_font_size\":\"8pt\",\"axis_line_color\":\"#5B5B5B\",\"axis_line_alpha\":0,\"major_tick_line_color\":\"#5B5B5B\",\"major_tick_line_alpha\":0,\"minor_tick_line_color\":\"#5B5B5B\",\"minor_tick_line_alpha\":0}}],\"below\":[{\"type\":\"object\",\"name\":\"LogAxis\",\"id\":\"p1280\",\"attributes\":{\"ticker\":{\"type\":\"object\",\"name\":\"FixedTicker\",\"id\":\"p1342\",\"attributes\":{\"ticks\":[1e-05,0.0001,0.001,0.01,0.1,1],\"minor_ticks\":[]}},\"formatter\":{\"type\":\"object\",\"name\":\"LogTickFormatter\",\"id\":\"p1282\"},\"axis_label\":\"ui, induction of interfering gRNA gene\",\"axis_label_standoff\":10,\"axis_label_text_color\":\"#5B5B5B\",\"axis_label_text_font\":\"Helvetica\",\"axis_label_text_font_size\":\"8pt\",\"axis_label_text_font_style\":\"normal\",\"major_label_policy\":{\"type\":\"object\",\"name\":\"AllLabels\",\"id\":\"p1283\"},\"major_label_text_color\":\"#5B5B5B\",\"major_label_text_font\":\"Helvetica\",\"major_label_text_font_size\":\"8pt\",\"axis_line_color\":\"#5B5B5B\",\"axis_line_alpha\":0,\"major_tick_line_color\":\"#5B5B5B\",\"major_tick_line_alpha\":0,\"minor_tick_line_color\":\"#5B5B5B\",\"minor_tick_line_alpha\":0}}],\"center\":[{\"type\":\"object\",\"name\":\"Grid\",\"id\":\"p1284\",\"attributes\":{\"axis\":{\"id\":\"p1280\"}}},{\"type\":\"object\",\"name\":\"Grid\",\"id\":\"p1289\",\"attributes\":{\"dimension\":1,\"axis\":{\"id\":\"p1285\"}}},{\"type\":\"object\",\"name\":\"Span\",\"id\":\"p1300\",\"attributes\":{\"location\":0.01,\"dimension\":\"height\",\"line_width\":2,\"line_dash\":[2,4]}},{\"type\":\"object\",\"name\":\"Legend\",\"id\":\"p1310\",\"attributes\":{\"location\":\"top_left\",\"border_line_color\":\"gray\",\"border_line_alpha\":0.3,\"background_fill_color\":\"white\",\"background_fill_alpha\":1,\"label_text_color\":\"#5B5B5B\",\"label_text_font\":\"Helvetica\",\"label_text_font_size\":\"8pt\",\"label_standoff\":8,\"glyph_width\":15,\"margin\":2,\"padding\":2,\"spacing\":0,\"items\":[{\"type\":\"object\",\"name\":\"LegendItem\",\"id\":\"p1311\",\"attributes\":{\"label\":{\"type\":\"value\",\"value\":\"Basic\"},\"renderers\":[{\"id\":\"p1307\"}]}},{\"type\":\"object\",\"name\":\"LegendItem\",\"id\":\"p1321\",\"attributes\":{\"label\":{\"type\":\"value\",\"value\":\"SR\"},\"renderers\":[{\"id\":\"p1318\"}]}},{\"type\":\"object\",\"name\":\"LegendItem\",\"id\":\"p1331\",\"attributes\":{\"label\":{\"type\":\"value\",\"value\":\"Off-target\"},\"renderers\":[{\"id\":\"p1328\"}]}},{\"type\":\"object\",\"name\":\"LegendItem\",\"id\":\"p1341\",\"attributes\":{\"label\":{\"type\":\"value\",\"value\":\"dCas9 fbck\"},\"renderers\":[{\"id\":\"p1338\"}]}}]}}],\"frame_width\":256,\"frame_height\":144,\"output_backend\":\"svg\"}},0,1,1,1]]}}]}};\n  const render_items = [{\"docid\":\"15bb638d-8ddc-4b8a-a9a7-3f7b9c4bd7d1\",\"roots\":{\"p1421\":\"feeaed6b-d5fd-4b60-9be6-db8d9b432d93\"},\"root_ids\":[\"p1421\"]}];\n  root.Bokeh.embed.embed_items_notebook(docs_json, render_items);\n  }\n  if (root.Bokeh !== undefined) {\n    embed_document(root);\n  } else {\n    let attempts = 0;\n    const timer = setInterval(function(root) {\n      if (root.Bokeh !== undefined) {\n        clearInterval(timer);\n        embed_document(root);\n      } else {\n        attempts++;\n        if (attempts > 100) {\n          clearInterval(timer);\n          console.log(\"Bokeh: ERROR: Unable to run BokehJS code because BokehJS library is missing\");\n        }\n      }\n    }, 10, root)\n  }\n})(window);",
      "application/vnd.bokehjs_exec.v0+json": ""
     },
     "metadata": {
      "application/vnd.bokehjs_exec.v0+json": {
       "id": "p1421"
      }
     },
     "output_type": "display_data"
    }
   ],
   "source": [
    "# FIG 3C,D: ROBUSTNESS TO DISTURBANCE AND OUTPUT FOLD-CHANGE\n",
    "\n",
    "# plot the maxium induction of output protein\n",
    "maxF_fig = bkplot.figure(width=348, height=261, title=\"Max. induction of output prot. exp.\",\n",
    "                         x_axis_label='u_i', y_axis_label=\"F, output gene transc. reg.\",\n",
    "                         x_axis_type='log', tools='pan,box_zoom,hover,reset,save')\n",
    "maxF_fig.line(np.array(indi_axis), F_ss_no_basic[-1],\n",
    "              line_width=2, line_color='#de3163ff', legend_label='Basic')\n",
    "maxF_fig.line(np.array(indi_axis), F_ss_no[:, -1],\n",
    "              line_width=2, line_color='#ff6700ff', legend_label='SR')\n",
    "maxF_fig.line(np.array(indi_axis), F_ss_no_off[:, -1],\n",
    "              line_width=2, line_color='#48d1ccff', legend_label='Off-target')\n",
    "maxF_fig.line(np.array(indi_axis), F_ss_no_fbck[-1],\n",
    "              line_width=2, line_color='#32cd32ff', legend_label='Feedback')\n",
    "maxF_fig.legend.location = \"bottom_left\"\n",
    "# show which value of ind_i corresponds to the example curve\n",
    "maxF_fig.add_layout(bkmodels.Span(location=sr_example_indi,\n",
    "                                  dimension='height', line_color='black', line_dash='dotted', line_width=2))\n",
    "maxF_fig.output_backend = \"svg\"\n",
    "\n",
    "# plot the output dynamic range\n",
    "dynrange_fig = bkplot.figure(frame_width=256, frame_height=144,\n",
    "                               x_axis_label='ui, induction of interfering gRNA gene', y_axis_label=\"Δp, output range [nM]\",\n",
    "                               x_range=(1.8e-4,1),\n",
    "                             # y_range=(0, 20000),\n",
    "                               x_axis_type='log',\n",
    "                               tools='pan,box_zoom,hover,reset,save')\n",
    "dynrange_fig.output_backend = \"svg\"\n",
    "#curves\n",
    "dynrange_fig.line(np.array(indi_axis), dynrange_basic,\n",
    "                  line_width=2, line_color='#de3163ff', legend_label='Basic')\n",
    "dynrange_fig.line(np.array(indi_axis), dynrange,\n",
    "                  line_width=2, line_color='#ff6700ff', legend_label='SR')\n",
    "dynrange_fig.line(np.array(indi_axis), dynrange_off,\n",
    "                  line_width=2, line_color='#48d1ccff', legend_label='Off-target')\n",
    "dynrange_fig.line(np.array(indi_axis), dynrange_fbck,\n",
    "                  line_width=2, line_color='#32cd32ff', legend_label='Feedback')\n",
    "dynrange_fig.legend.location = \"bottom_left\"\n",
    "# show which value of ind_i corresponds to the example curve\n",
    "dynrange_fig.add_layout(bkmodels.Span(location=sr_example_indi,\n",
    "                                      dimension='height', line_color='black', line_dash='dotted', line_width=2))\n",
    "# legend\n",
    "dynrange_fig.legend.location = \"bottom_left\"\n",
    "dynrange_fig.legend.border_line_color = \"gray\"\n",
    "dynrange_fig.legend.border_line_alpha = 0.3\n",
    "dynrange_fig.legend.background_fill_color = \"white\"\n",
    "dynrange_fig.legend.background_fill_alpha = 1\n",
    "dynrange_fig.legend.margin=2\n",
    "dynrange_fig.legend.padding=3\n",
    "dynrange_fig.legend.spacing=0\n",
    "# ticks\n",
    "dynrange_fig.xaxis.ticker = [1e-5, 1e-4, 1e-3, 1e-2, 1e-1, 1]\n",
    "# dynrange_fig.yaxis.ticker = np.logspace(-9,0,4)\n",
    "# fonts\n",
    "dynrange_fig.title.text_font_size = \"8pt\"\n",
    "dynrange_fig.xaxis.axis_label_text_font_size = \"8pt\"\n",
    "dynrange_fig.yaxis.axis_label_text_font_size = \"8pt\"\n",
    "dynrange_fig.xaxis.major_label_text_font_size = \"8pt\"\n",
    "dynrange_fig.yaxis.major_label_text_font_size = \"8pt\"\n",
    "dynrange_fig.legend.label_text_font_size = \"8pt\"\n",
    "\n",
    "# plot the fold change\n",
    "fold_change_fig = bkplot.figure(frame_width=256, frame_height=144,\n",
    "                               x_axis_label='ui, induction of interfering gRNA gene', y_axis_label=\"Output prot. conc. fold-change\",\n",
    "                               x_range=(1.8e-4,1), y_range=(10,1e5),\n",
    "                               x_axis_type='log', y_axis_type='log',\n",
    "                               tools='pan,box_zoom,hover,reset,save')\n",
    "fold_change_fig.output_backend = \"svg\"\n",
    "# show which value of ind_i corresponds to the example curve\n",
    "fold_change_fig.add_layout(bkmodels.Span(location=sr_example_indi,\n",
    "                                         dimension='height', line_color='black', line_dash='dotted', line_width=2))\n",
    "# curves\n",
    "fold_change_fig.line(np.array(indi_axis), fold_change_basic,\n",
    "                     line_width=2, line_color='#de3163ff', legend_label='Basic')\n",
    "fold_change_fig.line(np.array(indi_axis), fold_change,\n",
    "                     line_width=2, line_color='#ff6700ff', legend_label='SR')\n",
    "fold_change_fig.line(np.array(indi_axis), fold_change_off,\n",
    "                     line_width=2, line_color='#48d1ccff', legend_label='Off-target')\n",
    "fold_change_fig.line(np.array(indi_axis), fold_change_fbck,\n",
    "                     line_width=2, line_color='#32cd32ff', legend_label='dCas9 fbck')\n",
    "fold_change_fig.legend.location = \"top_left\"\n",
    "# legend\n",
    "fold_change_fig.legend.location = \"top_left\"\n",
    "fold_change_fig.legend.border_line_color = \"gray\"\n",
    "fold_change_fig.legend.border_line_alpha = 0.3\n",
    "fold_change_fig.legend.background_fill_color = \"white\"\n",
    "fold_change_fig.legend.background_fill_alpha = 1\n",
    "fold_change_fig.legend.margin=2\n",
    "fold_change_fig.legend.padding=2\n",
    "fold_change_fig.legend.spacing=0\n",
    "# ticks\n",
    "fold_change_fig.xaxis.ticker = [1e-5, 1e-4, 1e-3, 1e-2, 1e-1, 1]\n",
    "fold_change_fig.yaxis.ticker = np.logspace(1,5,5)\n",
    "# fonts\n",
    "fold_change_fig.title.text_font_size = \"8pt\"\n",
    "fold_change_fig.xaxis.axis_label_text_font_size = \"8pt\"\n",
    "fold_change_fig.yaxis.axis_label_text_font_size = \"8pt\"\n",
    "fold_change_fig.xaxis.major_label_text_font_size = \"8pt\"\n",
    "fold_change_fig.yaxis.major_label_text_font_size = \"8pt\"\n",
    "fold_change_fig.legend.label_text_font_size = \"8pt\"\n",
    "fold_change_fig.legend.label_text_font_size = \"8pt\"\n",
    "\n",
    "# plot the robustness\n",
    "robustness_fig = bkplot.figure(frame_width=256, frame_height=144,\n",
    "                               x_axis_label='ui, induction of interfering gRNA gene', y_axis_label=\"ρ, robustness to comp.[nM-2]\",\n",
    "                               x_range=(1.8e-4,1),\n",
    "                               y_range=(1e-9,1),\n",
    "                               x_axis_type='log', y_axis_type='log',\n",
    "                               tools='pan,box_zoom,hover,reset,save')\n",
    "robustness_fig.output_backend = \"svg\"\n",
    "# show which value of ind_i corresponds to the example curve\n",
    "robustness_fig.add_layout(bkmodels.Span(location=sr_example_indi,\n",
    "                                        dimension='height', line_color='black', line_dash='dotted', line_width=2))\n",
    "# curves\n",
    "robustness_fig.line(np.array(indi_axis), robustness_basic,\n",
    "                    line_width=2, line_color='#de3163ff', legend_label='Basic')\n",
    "robustness_fig.line(np.array(indi_axis), robustness,\n",
    "                    line_width=2, line_color='#ff6700ff', legend_label='SR')\n",
    "robustness_fig.line(np.array(indi_axis), robustness_off,\n",
    "                    line_width=2, line_color='#48d1ccff', legend_label='Off-target')\n",
    "robustness_fig.line(np.array(indi_axis), robustness_fbck,\n",
    "                    line_width=2, line_color='#32cd32ff', legend_label='dCas9 fbck')\n",
    "# legend\n",
    "robustness_fig.legend.location = \"top_left\"\n",
    "robustness_fig.legend.border_line_color = \"gray\"\n",
    "robustness_fig.legend.border_line_alpha = 0.3\n",
    "robustness_fig.legend.background_fill_color = \"white\"\n",
    "robustness_fig.legend.background_fill_alpha = 1\n",
    "robustness_fig.legend.margin=2\n",
    "robustness_fig.legend.padding=2\n",
    "robustness_fig.legend.spacing=0\n",
    "# ticks\n",
    "robustness_fig.xaxis.ticker = [1e-5, 1e-4, 1e-3, 1e-2, 1e-1, 1]\n",
    "robustness_fig.yaxis.ticker = np.logspace(-9,-1,5)\n",
    "# fonts\n",
    "robustness_fig.title.text_font_size = \"8pt\"\n",
    "robustness_fig.xaxis.axis_label_text_font_size = \"8pt\"\n",
    "robustness_fig.yaxis.axis_label_text_font_size = \"8pt\"\n",
    "robustness_fig.xaxis.major_label_text_font_size = \"8pt\"\n",
    "robustness_fig.yaxis.major_label_text_font_size = \"8pt\"\n",
    "robustness_fig.legend.label_text_font_size = \"8pt\"\n",
    "\n",
    "# show plots\n",
    "bkplot.show(bklayouts.grid([[robustness_fig, fold_change_fig]]))"
   ],
   "metadata": {
    "collapsed": false,
    "ExecuteTime": {
     "end_time": "2024-03-20T14:41:19.234262800Z",
     "start_time": "2024-03-20T14:41:19.169196900Z"
    }
   }
  }
 ],
 "metadata": {
  "kernelspec": {
   "display_name": "Python 3",
   "language": "python",
   "name": "python3"
  },
  "language_info": {
   "codemirror_mode": {
    "name": "ipython",
    "version": 2
   },
   "file_extension": ".py",
   "mimetype": "text/x-python",
   "name": "python",
   "nbconvert_exporter": "python",
   "pygments_lexer": "ipython2",
   "version": "2.7.6"
  }
 },
 "nbformat": 4,
 "nbformat_minor": 0
}
