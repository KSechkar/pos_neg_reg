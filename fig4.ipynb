{
 "cells": [
  {
   "cell_type": "code",
   "execution_count": 1,
   "metadata": {
    "collapsed": true,
    "ExecuteTime": {
     "end_time": "2024-03-20T15:23:35.379271800Z",
     "start_time": "2024-03-20T15:23:33.508303300Z"
    }
   },
   "outputs": [
    {
     "data": {
      "text/html": "    <style>\n        .bk-notebook-logo {\n            display: block;\n            width: 20px;\n            height: 20px;\n            background-image: url(data:image/png;base64,iVBORw0KGgoAAAANSUhEUgAAABQAAAAUCAYAAACNiR0NAAAABHNCSVQICAgIfAhkiAAAAAlwSFlzAAALEgAACxIB0t1+/AAAABx0RVh0U29mdHdhcmUAQWRvYmUgRmlyZXdvcmtzIENTNui8sowAAAOkSURBVDiNjZRtaJVlGMd/1/08zzln5zjP1LWcU9N0NkN8m2CYjpgQYQXqSs0I84OLIC0hkEKoPtiH3gmKoiJDU7QpLgoLjLIQCpEsNJ1vqUOdO7ppbuec5+V+rj4ctwzd8IIbbi6u+8f1539dt3A78eXC7QizUF7gyV1fD1Yqg4JWz84yffhm0qkFqBogB9rM8tZdtwVsPUhWhGcFJngGeWrPzHm5oaMmkfEg1usvLFyc8jLRqDOMru7AyC8saQr7GG7f5fvDeH7Ej8CM66nIF+8yngt6HWaKh7k49Soy9nXurCi1o3qUbS3zWfrYeQDTB/Qj6kX6Ybhw4B+bOYoLKCC9H3Nu/leUTZ1JdRWkkn2ldcCamzrcf47KKXdAJllSlxAOkRgyHsGC/zRday5Qld9DyoM4/q/rUoy/CXh3jzOu3bHUVZeU+DEn8FInkPBFlu3+nW3Nw0mk6vCDiWg8CeJaxEwuHS3+z5RgY+YBR6V1Z1nxSOfoaPa4LASWxxdNp+VWTk7+4vzaou8v8PN+xo+KY2xsw6une2frhw05CTYOmQvsEhjhWjn0bmXPjpE1+kplmmkP3suftwTubK9Vq22qKmrBhpY4jvd5afdRA3wGjFAgcnTK2s4hY0/GPNIb0nErGMCRxWOOX64Z8RAC4oCXdklmEvcL8o0BfkNK4lUg9HTl+oPlQxdNo3Mg4Nv175e/1LDGzZen30MEjRUtmXSfiTVu1kK8W4txyV6BMKlbgk3lMwYCiusNy9fVfvvwMxv8Ynl6vxoByANLTWplvuj/nF9m2+PDtt1eiHPBr1oIfhCChQMBw6Aw0UulqTKZdfVvfG7VcfIqLG9bcldL/+pdWTLxLUy8Qq38heUIjh4XlzZxzQm19lLFlr8vdQ97rjZVOLf8nclzckbcD4wxXMidpX30sFd37Fv/GtwwhzhxGVAprjbg0gCAEeIgwCZyTV2Z1REEW8O4py0wsjeloKoMr6iCY6dP92H6Vw/oTyICIthibxjm/DfN9lVz8IqtqKYLUXfoKVMVQVVJOElGjrnnUt9T9wbgp8AyYKaGlqingHZU/uG2NTZSVqwHQTWkx9hxjkpWDaCg6Ckj5qebgBVbT3V3NNXMSiWSDdGV3hrtzla7J+duwPOToIg42ChPQOQjspnSlp1V+Gjdged7+8UN5CRAV7a5EdFNwCjEaBR27b3W890TE7g24NAP/mMDXRWrGoFPQI9ls/MWO2dWFAar/xcOIImbbpA3zgAAAABJRU5ErkJggg==);\n        }\n    </style>\n    <div>\n        <a href=\"https://bokeh.org\" target=\"_blank\" class=\"bk-notebook-logo\"></a>\n        <span id=\"cfe3036b-1fb3-4431-9949-895e4b63d61f\">Loading BokehJS ...</span>\n    </div>\n"
     },
     "metadata": {},
     "output_type": "display_data"
    },
    {
     "data": {
      "application/javascript": "(function(root) {\n  function now() {\n    return new Date();\n  }\n\n  const force = true;\n\n  if (typeof root._bokeh_onload_callbacks === \"undefined\" || force === true) {\n    root._bokeh_onload_callbacks = [];\n    root._bokeh_is_loading = undefined;\n  }\n\nconst JS_MIME_TYPE = 'application/javascript';\n  const HTML_MIME_TYPE = 'text/html';\n  const EXEC_MIME_TYPE = 'application/vnd.bokehjs_exec.v0+json';\n  const CLASS_NAME = 'output_bokeh rendered_html';\n\n  /**\n   * Render data to the DOM node\n   */\n  function render(props, node) {\n    const script = document.createElement(\"script\");\n    node.appendChild(script);\n  }\n\n  /**\n   * Handle when an output is cleared or removed\n   */\n  function handleClearOutput(event, handle) {\n    function drop(id) {\n      const view = Bokeh.index.get_by_id(id)\n      if (view != null) {\n        view.model.document.clear()\n        Bokeh.index.delete(view)\n      }\n    }\n\n    const cell = handle.cell;\n\n    const id = cell.output_area._bokeh_element_id;\n    const server_id = cell.output_area._bokeh_server_id;\n\n    // Clean up Bokeh references\n    if (id != null) {\n      drop(id)\n    }\n\n    if (server_id !== undefined) {\n      // Clean up Bokeh references\n      const cmd_clean = \"from bokeh.io.state import curstate; print(curstate().uuid_to_server['\" + server_id + \"'].get_sessions()[0].document.roots[0]._id)\";\n      cell.notebook.kernel.execute(cmd_clean, {\n        iopub: {\n          output: function(msg) {\n            const id = msg.content.text.trim()\n            drop(id)\n          }\n        }\n      });\n      // Destroy server and session\n      const cmd_destroy = \"import bokeh.io.notebook as ion; ion.destroy_server('\" + server_id + \"')\";\n      cell.notebook.kernel.execute(cmd_destroy);\n    }\n  }\n\n  /**\n   * Handle when a new output is added\n   */\n  function handleAddOutput(event, handle) {\n    const output_area = handle.output_area;\n    const output = handle.output;\n\n    // limit handleAddOutput to display_data with EXEC_MIME_TYPE content only\n    if ((output.output_type != \"display_data\") || (!Object.prototype.hasOwnProperty.call(output.data, EXEC_MIME_TYPE))) {\n      return\n    }\n\n    const toinsert = output_area.element.find(\".\" + CLASS_NAME.split(' ')[0]);\n\n    if (output.metadata[EXEC_MIME_TYPE][\"id\"] !== undefined) {\n      toinsert[toinsert.length - 1].firstChild.textContent = output.data[JS_MIME_TYPE];\n      // store reference to embed id on output_area\n      output_area._bokeh_element_id = output.metadata[EXEC_MIME_TYPE][\"id\"];\n    }\n    if (output.metadata[EXEC_MIME_TYPE][\"server_id\"] !== undefined) {\n      const bk_div = document.createElement(\"div\");\n      bk_div.innerHTML = output.data[HTML_MIME_TYPE];\n      const script_attrs = bk_div.children[0].attributes;\n      for (let i = 0; i < script_attrs.length; i++) {\n        toinsert[toinsert.length - 1].firstChild.setAttribute(script_attrs[i].name, script_attrs[i].value);\n        toinsert[toinsert.length - 1].firstChild.textContent = bk_div.children[0].textContent\n      }\n      // store reference to server id on output_area\n      output_area._bokeh_server_id = output.metadata[EXEC_MIME_TYPE][\"server_id\"];\n    }\n  }\n\n  function register_renderer(events, OutputArea) {\n\n    function append_mime(data, metadata, element) {\n      // create a DOM node to render to\n      const toinsert = this.create_output_subarea(\n        metadata,\n        CLASS_NAME,\n        EXEC_MIME_TYPE\n      );\n      this.keyboard_manager.register_events(toinsert);\n      // Render to node\n      const props = {data: data, metadata: metadata[EXEC_MIME_TYPE]};\n      render(props, toinsert[toinsert.length - 1]);\n      element.append(toinsert);\n      return toinsert\n    }\n\n    /* Handle when an output is cleared or removed */\n    events.on('clear_output.CodeCell', handleClearOutput);\n    events.on('delete.Cell', handleClearOutput);\n\n    /* Handle when a new output is added */\n    events.on('output_added.OutputArea', handleAddOutput);\n\n    /**\n     * Register the mime type and append_mime function with output_area\n     */\n    OutputArea.prototype.register_mime_type(EXEC_MIME_TYPE, append_mime, {\n      /* Is output safe? */\n      safe: true,\n      /* Index of renderer in `output_area.display_order` */\n      index: 0\n    });\n  }\n\n  // register the mime type if in Jupyter Notebook environment and previously unregistered\n  if (root.Jupyter !== undefined) {\n    const events = require('base/js/events');\n    const OutputArea = require('notebook/js/outputarea').OutputArea;\n\n    if (OutputArea.prototype.mime_types().indexOf(EXEC_MIME_TYPE) == -1) {\n      register_renderer(events, OutputArea);\n    }\n  }\n  if (typeof (root._bokeh_timeout) === \"undefined\" || force === true) {\n    root._bokeh_timeout = Date.now() + 5000;\n    root._bokeh_failed_load = false;\n  }\n\n  const NB_LOAD_WARNING = {'data': {'text/html':\n     \"<div style='background-color: #fdd'>\\n\"+\n     \"<p>\\n\"+\n     \"BokehJS does not appear to have successfully loaded. If loading BokehJS from CDN, this \\n\"+\n     \"may be due to a slow or bad network connection. Possible fixes:\\n\"+\n     \"</p>\\n\"+\n     \"<ul>\\n\"+\n     \"<li>re-rerun `output_notebook()` to attempt to load from CDN again, or</li>\\n\"+\n     \"<li>use INLINE resources instead, as so:</li>\\n\"+\n     \"</ul>\\n\"+\n     \"<code>\\n\"+\n     \"from bokeh.resources import INLINE\\n\"+\n     \"output_notebook(resources=INLINE)\\n\"+\n     \"</code>\\n\"+\n     \"</div>\"}};\n\n  function display_loaded() {\n    const el = document.getElementById(\"cfe3036b-1fb3-4431-9949-895e4b63d61f\");\n    if (el != null) {\n      el.textContent = \"BokehJS is loading...\";\n    }\n    if (root.Bokeh !== undefined) {\n      if (el != null) {\n        el.textContent = \"BokehJS \" + root.Bokeh.version + \" successfully loaded.\";\n      }\n    } else if (Date.now() < root._bokeh_timeout) {\n      setTimeout(display_loaded, 100)\n    }\n  }\n\n  function run_callbacks() {\n    try {\n      root._bokeh_onload_callbacks.forEach(function(callback) {\n        if (callback != null)\n          callback();\n      });\n    } finally {\n      delete root._bokeh_onload_callbacks\n    }\n    console.debug(\"Bokeh: all callbacks have finished\");\n  }\n\n  function load_libs(css_urls, js_urls, callback) {\n    if (css_urls == null) css_urls = [];\n    if (js_urls == null) js_urls = [];\n\n    root._bokeh_onload_callbacks.push(callback);\n    if (root._bokeh_is_loading > 0) {\n      console.debug(\"Bokeh: BokehJS is being loaded, scheduling callback at\", now());\n      return null;\n    }\n    if (js_urls == null || js_urls.length === 0) {\n      run_callbacks();\n      return null;\n    }\n    console.debug(\"Bokeh: BokehJS not loaded, scheduling load and callback at\", now());\n    root._bokeh_is_loading = css_urls.length + js_urls.length;\n\n    function on_load() {\n      root._bokeh_is_loading--;\n      if (root._bokeh_is_loading === 0) {\n        console.debug(\"Bokeh: all BokehJS libraries/stylesheets loaded\");\n        run_callbacks()\n      }\n    }\n\n    function on_error(url) {\n      console.error(\"failed to load \" + url);\n    }\n\n    for (let i = 0; i < css_urls.length; i++) {\n      const url = css_urls[i];\n      const element = document.createElement(\"link\");\n      element.onload = on_load;\n      element.onerror = on_error.bind(null, url);\n      element.rel = \"stylesheet\";\n      element.type = \"text/css\";\n      element.href = url;\n      console.debug(\"Bokeh: injecting link tag for BokehJS stylesheet: \", url);\n      document.body.appendChild(element);\n    }\n\n    for (let i = 0; i < js_urls.length; i++) {\n      const url = js_urls[i];\n      const element = document.createElement('script');\n      element.onload = on_load;\n      element.onerror = on_error.bind(null, url);\n      element.async = false;\n      element.src = url;\n      console.debug(\"Bokeh: injecting script tag for BokehJS library: \", url);\n      document.head.appendChild(element);\n    }\n  };\n\n  function inject_raw_css(css) {\n    const element = document.createElement(\"style\");\n    element.appendChild(document.createTextNode(css));\n    document.body.appendChild(element);\n  }\n\n  const js_urls = [\"https://cdn.bokeh.org/bokeh/release/bokeh-3.3.4.min.js\", \"https://cdn.bokeh.org/bokeh/release/bokeh-gl-3.3.4.min.js\", \"https://cdn.bokeh.org/bokeh/release/bokeh-widgets-3.3.4.min.js\", \"https://cdn.bokeh.org/bokeh/release/bokeh-tables-3.3.4.min.js\", \"https://cdn.bokeh.org/bokeh/release/bokeh-mathjax-3.3.4.min.js\"];\n  const css_urls = [];\n\n  const inline_js = [    function(Bokeh) {\n      Bokeh.set_log_level(\"info\");\n    },\nfunction(Bokeh) {\n    }\n  ];\n\n  function run_inline_js() {\n    if (root.Bokeh !== undefined || force === true) {\n          for (let i = 0; i < inline_js.length; i++) {\n      inline_js[i].call(root, root.Bokeh);\n    }\nif (force === true) {\n        display_loaded();\n      }} else if (Date.now() < root._bokeh_timeout) {\n      setTimeout(run_inline_js, 100);\n    } else if (!root._bokeh_failed_load) {\n      console.log(\"Bokeh: BokehJS failed to load within specified timeout.\");\n      root._bokeh_failed_load = true;\n    } else if (force !== true) {\n      const cell = $(document.getElementById(\"cfe3036b-1fb3-4431-9949-895e4b63d61f\")).parents('.cell').data().cell;\n      cell.output_area.append_execute_result(NB_LOAD_WARNING)\n    }\n  }\n\n  if (root._bokeh_is_loading === 0) {\n    console.debug(\"Bokeh: BokehJS loaded, going straight to plotting\");\n    run_inline_js();\n  } else {\n    load_libs(css_urls, js_urls, function() {\n      console.debug(\"Bokeh: BokehJS plotting callback run at\", now());\n      run_inline_js();\n    });\n  }\n}(window));",
      "application/vnd.bokehjs_load.v0+json": "(function(root) {\n  function now() {\n    return new Date();\n  }\n\n  const force = true;\n\n  if (typeof root._bokeh_onload_callbacks === \"undefined\" || force === true) {\n    root._bokeh_onload_callbacks = [];\n    root._bokeh_is_loading = undefined;\n  }\n\n\n  if (typeof (root._bokeh_timeout) === \"undefined\" || force === true) {\n    root._bokeh_timeout = Date.now() + 5000;\n    root._bokeh_failed_load = false;\n  }\n\n  const NB_LOAD_WARNING = {'data': {'text/html':\n     \"<div style='background-color: #fdd'>\\n\"+\n     \"<p>\\n\"+\n     \"BokehJS does not appear to have successfully loaded. If loading BokehJS from CDN, this \\n\"+\n     \"may be due to a slow or bad network connection. Possible fixes:\\n\"+\n     \"</p>\\n\"+\n     \"<ul>\\n\"+\n     \"<li>re-rerun `output_notebook()` to attempt to load from CDN again, or</li>\\n\"+\n     \"<li>use INLINE resources instead, as so:</li>\\n\"+\n     \"</ul>\\n\"+\n     \"<code>\\n\"+\n     \"from bokeh.resources import INLINE\\n\"+\n     \"output_notebook(resources=INLINE)\\n\"+\n     \"</code>\\n\"+\n     \"</div>\"}};\n\n  function display_loaded() {\n    const el = document.getElementById(\"cfe3036b-1fb3-4431-9949-895e4b63d61f\");\n    if (el != null) {\n      el.textContent = \"BokehJS is loading...\";\n    }\n    if (root.Bokeh !== undefined) {\n      if (el != null) {\n        el.textContent = \"BokehJS \" + root.Bokeh.version + \" successfully loaded.\";\n      }\n    } else if (Date.now() < root._bokeh_timeout) {\n      setTimeout(display_loaded, 100)\n    }\n  }\n\n  function run_callbacks() {\n    try {\n      root._bokeh_onload_callbacks.forEach(function(callback) {\n        if (callback != null)\n          callback();\n      });\n    } finally {\n      delete root._bokeh_onload_callbacks\n    }\n    console.debug(\"Bokeh: all callbacks have finished\");\n  }\n\n  function load_libs(css_urls, js_urls, callback) {\n    if (css_urls == null) css_urls = [];\n    if (js_urls == null) js_urls = [];\n\n    root._bokeh_onload_callbacks.push(callback);\n    if (root._bokeh_is_loading > 0) {\n      console.debug(\"Bokeh: BokehJS is being loaded, scheduling callback at\", now());\n      return null;\n    }\n    if (js_urls == null || js_urls.length === 0) {\n      run_callbacks();\n      return null;\n    }\n    console.debug(\"Bokeh: BokehJS not loaded, scheduling load and callback at\", now());\n    root._bokeh_is_loading = css_urls.length + js_urls.length;\n\n    function on_load() {\n      root._bokeh_is_loading--;\n      if (root._bokeh_is_loading === 0) {\n        console.debug(\"Bokeh: all BokehJS libraries/stylesheets loaded\");\n        run_callbacks()\n      }\n    }\n\n    function on_error(url) {\n      console.error(\"failed to load \" + url);\n    }\n\n    for (let i = 0; i < css_urls.length; i++) {\n      const url = css_urls[i];\n      const element = document.createElement(\"link\");\n      element.onload = on_load;\n      element.onerror = on_error.bind(null, url);\n      element.rel = \"stylesheet\";\n      element.type = \"text/css\";\n      element.href = url;\n      console.debug(\"Bokeh: injecting link tag for BokehJS stylesheet: \", url);\n      document.body.appendChild(element);\n    }\n\n    for (let i = 0; i < js_urls.length; i++) {\n      const url = js_urls[i];\n      const element = document.createElement('script');\n      element.onload = on_load;\n      element.onerror = on_error.bind(null, url);\n      element.async = false;\n      element.src = url;\n      console.debug(\"Bokeh: injecting script tag for BokehJS library: \", url);\n      document.head.appendChild(element);\n    }\n  };\n\n  function inject_raw_css(css) {\n    const element = document.createElement(\"style\");\n    element.appendChild(document.createTextNode(css));\n    document.body.appendChild(element);\n  }\n\n  const js_urls = [\"https://cdn.bokeh.org/bokeh/release/bokeh-3.3.4.min.js\", \"https://cdn.bokeh.org/bokeh/release/bokeh-gl-3.3.4.min.js\", \"https://cdn.bokeh.org/bokeh/release/bokeh-widgets-3.3.4.min.js\", \"https://cdn.bokeh.org/bokeh/release/bokeh-tables-3.3.4.min.js\", \"https://cdn.bokeh.org/bokeh/release/bokeh-mathjax-3.3.4.min.js\"];\n  const css_urls = [];\n\n  const inline_js = [    function(Bokeh) {\n      Bokeh.set_log_level(\"info\");\n    },\nfunction(Bokeh) {\n    }\n  ];\n\n  function run_inline_js() {\n    if (root.Bokeh !== undefined || force === true) {\n          for (let i = 0; i < inline_js.length; i++) {\n      inline_js[i].call(root, root.Bokeh);\n    }\nif (force === true) {\n        display_loaded();\n      }} else if (Date.now() < root._bokeh_timeout) {\n      setTimeout(run_inline_js, 100);\n    } else if (!root._bokeh_failed_load) {\n      console.log(\"Bokeh: BokehJS failed to load within specified timeout.\");\n      root._bokeh_failed_load = true;\n    } else if (force !== true) {\n      const cell = $(document.getElementById(\"cfe3036b-1fb3-4431-9949-895e4b63d61f\")).parents('.cell').data().cell;\n      cell.output_area.append_execute_result(NB_LOAD_WARNING)\n    }\n  }\n\n  if (root._bokeh_is_loading === 0) {\n    console.debug(\"Bokeh: BokehJS loaded, going straight to plotting\");\n    run_inline_js();\n  } else {\n    load_libs(css_urls, js_urls, function() {\n      console.debug(\"Bokeh: BokehJS plotting callback run at\", now());\n      run_inline_js();\n    });\n  }\n}(window));"
     },
     "metadata": {},
     "output_type": "display_data"
    }
   ],
   "source": [
    "###\n",
    "#   FIG4.IPYNB:\n",
    "#   Creating plots for Figures 2 and 3 in the paper.\n",
    "###\n",
    "# By Kirill Sechkar\n",
    "\n",
    "from cistrans_model import *\n",
    "import bokeh.io as bkio\n",
    "bkio.output_notebook()\n",
    "\n",
    "# set up jax\n",
    "jax.config.update('jax_platform_name', 'cpu')\n",
    "jax.config.update(\"jax_enable_x64\", True)"
   ]
  },
  {
   "cell_type": "code",
   "execution_count": 2,
   "outputs": [],
   "source": [
    "# INITIALISE THE MODEL AND THE SIMULATOR\n",
    "# get default model parameter values\n",
    "par = set_default_pars_cistrans()\n",
    "\n",
    "# ODE term definition\n",
    "cis_term = ODETerm(ode_cis)\n",
    "trans_term = ODETerm(ode_trans)"
   ],
   "metadata": {
    "collapsed": false,
    "ExecuteTime": {
     "end_time": "2024-03-20T15:23:35.379271800Z",
     "start_time": "2024-03-20T15:23:34.720947Z"
    }
   }
  },
  {
   "cell_type": "code",
   "execution_count": 3,
   "outputs": [],
   "source": [
    " # INITIALISE THE RANGE OF INDUCTION LEVELS AND DISTURBANCE CHARACTERISTICS\n",
    "# define extents of interference considered and magnitude of disturbance\n",
    "indi_axis = jnp.logspace(-4+jnp.log10(1.8), 0, 21)\n",
    "# indi_axis=jnp.array([0, 1e-1])\n",
    "indi_axis_np = np.array(indi_axis)  # np format for robustness calculations\n",
    "indi_range = (np.min(indi_axis_np), np.max(indi_axis_np)) # range of interference induction levels\n",
    "\n",
    "# define the range of tested activator gRNA induction extents\n",
    "inda_axis = jnp.logspace(-4+jnp.log10(1.8), 0, 21)\n",
    "# inda_axis=jnp.array([1e-5, 1e-2])\n",
    "inda_axis_np = np.array(inda_axis)  # np format for robustness calculations\n",
    "inda_range = (np.min(inda_axis_np), np.max(inda_axis_np)) # range of activator induction levels\n",
    "\n",
    "# RESOURCE DISTURBANCE\n",
    "ind_c_default = 0.0 # default induction level of the competitor\n",
    "ind_c_pert = 1.0    # induction level of the competitor during the perturbing pulse\n",
    "tf_pre = (0, 24)  # simulation time frame BEFORE the competitor is induced induction\n",
    "tf_pulse = (24, 26)  # simulation time frame DURING the competitor is induced induction\n",
    "tf_post = (26, 50)  # simulation time frame AFTER the competitor is induced induction\n",
    "pert_char_res = (tf_pre, tf_pulse, tf_post, ind_c_pert)\n",
    "\n",
    "# TRANSCRIPTIONAL PERTURBATION\n",
    "ind_a_pert_relative = 0.25    # induction level of the competitor during the perturbing pulse\n",
    "pert_char_transc = (tf_pre, tf_pulse, tf_post, ind_a_pert_relative) # same time frames as for the resource disturbance\n",
    "\n",
    "# settle time criterion\n",
    "settle_bound=0.05"
   ],
   "metadata": {
    "collapsed": false,
    "ExecuteTime": {
     "end_time": "2024-03-20T15:23:35.379271800Z",
     "start_time": "2024-03-20T15:23:34.726372800Z"
    }
   }
  },
  {
   "cell_type": "code",
   "execution_count": 4,
   "outputs": [],
   "source": [
    "# RESOURCE DISTURBANCE FOR OPEN-LOOP SYSTEM\n",
    "par_res_open = par.copy()\n",
    "par_res_open['i_offtarget'] = 1.0\n",
    "\n",
    "# generate meshgrid of induction levels\n",
    "indi_mesh_open, inda_mesh_open = jnp.meshgrid(indi_axis, jnp.array([0])) # meshgird of interference and activator induction levels (no activator present)\n",
    "indi_mesh_open_ravel = indi_mesh_open.ravel()\n",
    "inda_mesh_open_ravel = inda_mesh_open.ravel()\n",
    "stacked_mesh_open = jnp.stack((indi_mesh_open_ravel, inda_mesh_open_ravel), axis=1) # stack the meshgrid into a single array\n",
    "mesh_open=jnp.concatenate((stacked_mesh_open, ind_c_default * jnp.ones((len(indi_mesh_open_ravel), 1))), axis=1) # add entries for competitor induction\n",
    "\n",
    "# simulate\n",
    "peakdists_res_open_jnp, peakdists_percent_res_open_jnp,\\\n",
    "    rectime_indices_res_open_jnp, \\\n",
    "    xs_res_open_jnp, ts_res_open_jnp = induction_to_dynmetrics_res(mesh_open, par_res_open, cis_term, pert_char_res,settle_bound=settle_bound)\n",
    "\n",
    "# unpack the trajectories\n",
    "xs_res_open=np.array(xs_res_open_jnp)\n",
    "ts_res_open=np.array(ts_res_open_jnp)\n",
    "\n",
    "# convert peak disturbance values to numpy format\n",
    "peakdists_res_open=np.array(peakdists_res_open_jnp)\n",
    "peakdists_percent_res_open=np.array(peakdists_percent_res_open_jnp)\n",
    "\n",
    "# find recovery times\n",
    "rectimes_res_open=ts_res_open.take(np.array(rectime_indices_res_open_jnp))-tf_post[0]"
   ],
   "metadata": {
    "collapsed": false,
    "ExecuteTime": {
     "end_time": "2024-03-20T15:23:41.362193900Z",
     "start_time": "2024-03-20T15:23:34.937411700Z"
    }
   }
  },
  {
   "cell_type": "code",
   "execution_count": 5,
   "outputs": [],
   "source": [
    "# RESOURCE DISTURBANCE FOR CIS FEEDBACK\n",
    "par_res_open = par.copy()\n",
    "\n",
    "# generate meshgrid of induction levels\n",
    "indi_mesh_cis, inda_mesh_cis = jnp.meshgrid(indi_axis, jnp.array([0])) # meshgird of interference and activator induction levels (no activator present)\n",
    "indi_mesh_cis_ravel = indi_mesh_cis.ravel()\n",
    "inda_mesh_cis_ravel = inda_mesh_cis.ravel()\n",
    "stacked_mesh_cis = jnp.stack((indi_mesh_cis_ravel, inda_mesh_cis_ravel), axis=1) # stack the meshgrid into a single array\n",
    "mesh_cis=jnp.concatenate((stacked_mesh_cis, ind_c_default * jnp.ones((len(indi_mesh_cis_ravel), 1))), axis=1) # add entries for competitor induction\n",
    "# simulate\n",
    "peakdists_res_cis_jnp, peakdists_percent_res_cis_jnp,\\\n",
    "    rectime_indices_res_cis_jnp, \\\n",
    "    xs_res_cis_jnp, ts_res_cis_jnp = induction_to_dynmetrics_res(mesh_cis, par_res_open, cis_term, pert_char_res,settle_bound=settle_bound)\n",
    "\n",
    "# unpack the trajectories\n",
    "xs_res_cis=np.array(xs_res_cis_jnp)\n",
    "ts_res_cis=np.array(ts_res_cis_jnp)\n",
    "\n",
    "# convert peak disturbance values to numpy format\n",
    "peakdists_res_cis=np.array(peakdists_res_cis_jnp)\n",
    "peakdists_percent_res_cis=np.array(peakdists_percent_res_cis_jnp)\n",
    "\n",
    "# find recovery times\n",
    "rectimes_res_cis=ts_res_cis.take(np.array(rectime_indices_res_cis_jnp))-tf_post[0]"
   ],
   "metadata": {
    "collapsed": false,
    "ExecuteTime": {
     "end_time": "2024-03-20T15:23:41.593389400Z",
     "start_time": "2024-03-20T15:23:41.362193900Z"
    }
   }
  },
  {
   "cell_type": "code",
   "execution_count": null,
   "outputs": [],
   "source": [
    "# RESOURCE DISTURBANCE FOR TRANS FEEDBACK\n",
    "par_res_trans = par.copy()\n",
    "\n",
    "# generate meshgrid of induction levels\n",
    "indi_mesh_trans, inda_mesh_trans = jnp.meshgrid(indi_axis, inda_axis) # meshgird of interference and activator induction levels\n",
    "indi_mesh_trans_ravel = indi_mesh_trans.ravel()\n",
    "inda_mesh_trans_ravel = inda_mesh_trans.ravel()\n",
    "stacked_mesh_trans = jnp.stack((indi_mesh_trans_ravel, inda_mesh_trans_ravel), axis=1) # stack the meshgrid into a single array\n",
    "mesh_trans=jnp.concatenate((stacked_mesh_trans, ind_c_default * jnp.ones((len(inda_mesh_trans_ravel), 1))), axis=1) # add entries for competitor induction\n",
    "\n",
    "# simulate\n",
    "peakdists_res_trans_jnp, peakdists_percent_res_trans_jnp,\\\n",
    "    rectime_indices_res_trans_jnp, \\\n",
    "    xs_res_trans_jnp, ts_res_trans_jnp = induction_to_dynmetrics_res(mesh_trans, par_res_trans, trans_term, pert_char_res,settle_bound=settle_bound)\n",
    "\n",
    "# unpack the trajectories\n",
    "xs_res_trans=np.array(xs_res_trans_jnp)\n",
    "ts_res_trans=np.array(ts_res_trans_jnp)\n",
    "\n",
    "# convert peak disturbance values to numpy format\n",
    "peakdists_res_trans_ravel=np.array(peakdists_res_trans_jnp)\n",
    "peakdists_res_trans=peakdists_res_trans_ravel.reshape(len(inda_axis), len(indi_axis)).T\n",
    "peakdists_percent_res_trans_ravel=np.array(peakdists_percent_res_trans_jnp)\n",
    "peakdists_percent_res_trans=peakdists_percent_res_trans_ravel.reshape(len(inda_axis), len(indi_axis)).T\n",
    "\n",
    "# find recovery times\n",
    "rectimes_res_trans_ravel=ts_res_trans.take(np.array(rectime_indices_res_trans_jnp))-tf_post[0]\n",
    "rectimes_res_trans=rectimes_res_trans_ravel.reshape(len(inda_axis), len(indi_axis)).T"
   ],
   "metadata": {
    "collapsed": false,
    "is_executing": true
   }
  },
  {
   "cell_type": "code",
   "execution_count": null,
   "outputs": [],
   "source": [
    "# TRANSCRIPTIONAL PERTURBATION FOR OPEN LOOP\n",
    "par_transc_open=par.copy()\n",
    "par_transc_open['i_offtarget'] = 1.0\n",
    "\n",
    "# simulate\n",
    "peakdists_transc_open_jnp, peakdists_percent_transc_open_jnp,\\\n",
    "    rectime_indices_transc_open_jnp, \\\n",
    "    xs_transc_open_jnp, ts_transc_open_jnp = induction_to_dynmetrics_transc(mesh_cis, par_transc_open, cis_term, pert_char_transc,settle_bound=settle_bound)\n",
    "\n",
    "# unpack the trajectories\n",
    "xs_transc_open=np.array(xs_transc_open_jnp)\n",
    "ts_transc_open=np.array(ts_transc_open_jnp)\n",
    "\n",
    "# convert peak disturbance values to numpy format\n",
    "peakdists_transc_open=np.array(peakdists_transc_open_jnp)\n",
    "peakdists_percent_transc_open=np.array(peakdists_percent_transc_open_jnp)\n",
    "\n",
    "# find recovery times\n",
    "rectimes_transc_open=ts_transc_open.take(np.array(rectime_indices_transc_open_jnp))-tf_post[0]"
   ],
   "metadata": {
    "collapsed": false,
    "is_executing": true
   }
  },
  {
   "cell_type": "code",
   "execution_count": null,
   "outputs": [],
   "source": [
    "# TRANSCRIPTIONAL PERTURBATION FOR CIS FEEDBACK\n",
    "\n",
    "# simulate\n",
    "peakdists_transc_cis_jnp, peakdists_percent_transc_cis_jnp,\\\n",
    "    rectime_indices_transc_cis_jnp, \\\n",
    "    xs_transc_cis_jnp, ts_transc_cis_jnp = induction_to_dynmetrics_transc(mesh_cis, par, cis_term, pert_char_transc,settle_bound=settle_bound)\n",
    "\n",
    "# unpack the trajectories\n",
    "xs_transc_cis=np.array(xs_transc_cis_jnp)\n",
    "ts_transc_cis=np.array(ts_transc_cis_jnp)\n",
    "\n",
    "# convert peak disturbance values to numpy format\n",
    "peakdists_transc_cis=np.array(peakdists_transc_cis_jnp)\n",
    "peakdists_percent_transc_cis=np.array(peakdists_percent_transc_cis_jnp)\n",
    "\n",
    "# find recovery times\n",
    "rectimes_transc_cis=ts_transc_cis.take(np.array(rectime_indices_transc_cis_jnp))-tf_post[0]"
   ],
   "metadata": {
    "collapsed": false,
    "is_executing": true
   }
  },
  {
   "cell_type": "code",
   "execution_count": null,
   "outputs": [],
   "source": [
    "# TRANSCRIPTION PERTURBATION FOR TRANS FEEDBACK\n",
    "\n",
    "# simulate\n",
    "peakdists_transc_trans_jnp, peakdists_percent_transc_trans_jnp,\\\n",
    "    rectime_indices_transc_trans_jnp, \\\n",
    "    xs_transc_trans_jnp, ts_transc_trans_jnp = induction_to_dynmetrics_transc(mesh_trans, par, trans_term, pert_char_transc,settle_bound=settle_bound)\n",
    "\n",
    "# unpack the trajectories\n",
    "xs_transc_trans = np.array(xs_transc_trans_jnp)\n",
    "ts_transc_trans = np.array(ts_transc_trans_jnp)\n",
    "\n",
    "# convert peak disturbance values to numpy format\n",
    "peakdists_transc_trans_ravel = np.array(peakdists_transc_trans_jnp)\n",
    "peakdists_transc_trans = peakdists_transc_trans_ravel.reshape(len(inda_axis), len(indi_axis)).T\n",
    "peakdists_percent_transc_trans_ravel = np.array(peakdists_percent_transc_trans_jnp)\n",
    "peakdists_percent_transc_trans = peakdists_percent_transc_trans_ravel.reshape(len(inda_axis), len(indi_axis)).T\n",
    "\n",
    "# find recovery times\n",
    "rectimes_transc_trans_ravel = ts_transc_trans.take(np.array(rectime_indices_transc_trans_jnp)) - tf_post[0]\n",
    "rectimes_transc_trans = rectimes_transc_trans_ravel.reshape(len(inda_axis), len(indi_axis)).T"
   ],
   "metadata": {
    "collapsed": false,
    "is_executing": true
   }
  },
  {
   "cell_type": "code",
   "execution_count": null,
   "outputs": [],
   "source": [
    "# FIG4D,E: THE TRADEOFFS IN RESPONSE TO THE TWO PERTURBATIONS\n",
    "\n",
    "# Maximum fold-change in output protein level upon disturbance\n",
    "tradeoff_peakdist_fold_fig_x_range = (1,128)\n",
    "tradeoff_peakdist_fold_fig_y_range = (1,1.55)\n",
    "tradeoff_peakdist_fold_fig = bkplot.figure(frame_width=256,\n",
    "                                           frame_height=144,\n",
    "                                           x_axis_label='Resource pert.: max. fold-change',\n",
    "                                           y_axis_label='Transc. pert.: max. fold-change',\n",
    "                                           x_axis_type='log', y_axis_type='log',\n",
    "                                           x_range=tradeoff_peakdist_fold_fig_x_range,\n",
    "                                           y_range=tradeoff_peakdist_fold_fig_y_range\n",
    "                                           )\n",
    "tradeoff_peakdist_fold_fig.output_backend = \"svg\"\n",
    "# points\n",
    "peakdists_fold_res_open= np.array(peakdists_percent_res_open/100+1)\n",
    "peakdists_fold_res_cis= np.array(peakdists_percent_res_cis/100+1)\n",
    "peakdists_fold_res_trans_ravel= np.array(peakdists_percent_res_trans_ravel/100+1)\n",
    "peakdists_fold_transc_open= np.array(peakdists_percent_transc_open/100+1)\n",
    "peakdists_fold_transc_cis= np.array(peakdists_percent_transc_cis/100+1)\n",
    "peakdists_fold_transc_trans_ravel= np.array(peakdists_percent_transc_trans_ravel/100+1)\n",
    "tradeoff_peakdist_fold_fig.circle(peakdists_fold_res_trans_ravel,\n",
    "                                  peakdists_fold_transc_trans_ravel,\n",
    "                                  size=4, alpha=0.5,\n",
    "                                  color='#ff6700ff', legend_label='Trans feedback')\n",
    "tradeoff_peakdist_fold_fig.cross(peakdists_fold_res_cis,\n",
    "                                 peakdists_fold_transc_cis,\n",
    "                                 size=6, alpha=1, line_width=2,\n",
    "                                 color='#de3163ff', legend_label='Cis feedback')\n",
    "tradeoff_peakdist_fold_fig.x(tradeoff_peakdist_fold_fig_x_range[0] * np.ones_like(peakdists_fold_transc_open),\n",
    "                             peakdists_fold_transc_open,\n",
    "                             size=8, alpha=1, line_width=2,\n",
    "                             color='#48d1ccff', legend_label='Open loop')\n",
    "# legend\n",
    "tradeoff_peakdist_fold_fig.legend.border_line_color = \"gray\"\n",
    "tradeoff_peakdist_fold_fig.legend.border_line_alpha = 0.3\n",
    "tradeoff_peakdist_fold_fig.legend.background_fill_color = \"white\"\n",
    "tradeoff_peakdist_fold_fig.legend.background_fill_alpha = 1\n",
    "tradeoff_peakdist_fold_fig.legend.margin=2\n",
    "tradeoff_peakdist_fold_fig.legend.padding=1\n",
    "tradeoff_peakdist_fold_fig.legend.spacing=2\n",
    "tradeoff_peakdist_fold_fig.legend.label_standoff=0\n",
    "tradeoff_peakdist_fold_fig.legend.location = \"bottom\"\n",
    "tradeoff_peakdist_fold_fig.legend.orientation = \"horizontal\"\n",
    "tradeoff_peakdist_fold_fig.legend.visible = False\n",
    "# ticks\n",
    "tradeoff_peakdist_fold_fig.xaxis.ticker = [1, 2, 4, 8, 16, 32, 64]\n",
    "tradeoff_peakdist_fold_fig.yaxis.ticker = [1, 1.2, 1.44]\n",
    "# fonts\n",
    "tradeoff_peakdist_fold_fig.title.text_font_size = \"8pt\"\n",
    "tradeoff_peakdist_fold_fig.xaxis.axis_label_text_font_size = \"8pt\"\n",
    "tradeoff_peakdist_fold_fig.yaxis.axis_label_text_font_size = \"8pt\"\n",
    "tradeoff_peakdist_fold_fig.xaxis.major_label_text_font_size = \"8pt\"\n",
    "tradeoff_peakdist_fold_fig.yaxis.major_label_text_font_size = \"8pt\"\n",
    "tradeoff_peakdist_fold_fig.legend.label_text_font_size = \"8pt\"\n",
    "\n",
    "\n",
    "\n",
    "# Recovery time after disturbance is removed\n",
    "tradeoff_rectime_fig_x_range=(0,14.5)\n",
    "tradeoff_rectime_fig_y_range=(0,4.5)\n",
    "tradeoff_rectime_fig = bkplot.figure(frame_width=256,\n",
    "                                     frame_height=144,\n",
    "                                     x_axis_label='Resource pert.:'+str(int(settle_bound*100))+'% settling time, h',\n",
    "                                     y_axis_label='Transc. pert.:'+str(int(settle_bound*100))+'% settling time, h',\n",
    "                                     # x_axis_type='log', y_axis_type='log',\n",
    "                                     x_range=tradeoff_rectime_fig_x_range,\n",
    "                                     y_range=tradeoff_rectime_fig_y_range\n",
    "                                     )\n",
    "tradeoff_rectime_fig.output_backend = \"svg\"\n",
    "# points\n",
    "tradeoff_rectime_fig.circle(rectimes_res_trans_ravel,\n",
    "                                  rectimes_transc_trans_ravel,\n",
    "                                  size=4, alpha=0.5,\n",
    "                                  color='#ff6700ff', legend_label='Trans feedback')\n",
    "tradeoff_rectime_fig.cross(rectimes_res_cis,\n",
    "                                 rectimes_transc_cis,\n",
    "                                 size=6, alpha=1, line_width=2,\n",
    "                                 color='#de3163ff', legend_label='Cis feedback')\n",
    "tradeoff_rectime_fig.x(tradeoff_rectime_fig_x_range[0] * np.ones_like(rectimes_transc_open),\n",
    "                             rectimes_transc_open,\n",
    "                             size=8, alpha=1, line_width=2,\n",
    "                             color='#48d1ccff', legend_label='Open loop')\n",
    "# legend\n",
    "tradeoff_rectime_fig.legend.border_line_color = \"gray\"\n",
    "tradeoff_rectime_fig.legend.border_line_alpha = 0.3\n",
    "tradeoff_rectime_fig.legend.background_fill_color = \"white\"\n",
    "tradeoff_rectime_fig.legend.background_fill_alpha = 1\n",
    "tradeoff_rectime_fig.legend.margin=2\n",
    "tradeoff_rectime_fig.legend.padding=1\n",
    "tradeoff_rectime_fig.legend.spacing=2\n",
    "tradeoff_rectime_fig.legend.label_standoff=0\n",
    "tradeoff_rectime_fig.legend.location = \"bottom\"\n",
    "tradeoff_rectime_fig.legend.orientation = \"horizontal\"\n",
    "tradeoff_rectime_fig.legend.visible = False\n",
    "# ticks\n",
    "tradeoff_rectime_fig.xaxis.ticker = [0,3,6,9,12,15]\n",
    "tradeoff_rectime_fig.yaxis.ticker = [0,1,2,3,4,5]\n",
    "# fonts\n",
    "tradeoff_rectime_fig.title.text_font_size = \"8pt\"\n",
    "tradeoff_rectime_fig.xaxis.axis_label_text_font_size = \"8pt\"\n",
    "tradeoff_rectime_fig.yaxis.axis_label_text_font_size = \"8pt\"\n",
    "tradeoff_rectime_fig.xaxis.major_label_text_font_size = \"8pt\"\n",
    "tradeoff_rectime_fig.yaxis.major_label_text_font_size = \"8pt\"\n",
    "tradeoff_rectime_fig.legend.label_text_font_size = \"8pt\"\n",
    "\n",
    "\n",
    "bkio.show(bklayouts.gridplot([[tradeoff_peakdist_fold_fig, tradeoff_rectime_fig]]))"
   ],
   "metadata": {
    "collapsed": false,
    "is_executing": true
   }
  }
 ],
 "metadata": {
  "kernelspec": {
   "display_name": "Python 3",
   "language": "python",
   "name": "python3"
  },
  "language_info": {
   "codemirror_mode": {
    "name": "ipython",
    "version": 2
   },
   "file_extension": ".py",
   "mimetype": "text/x-python",
   "name": "python",
   "nbconvert_exporter": "python",
   "pygments_lexer": "ipython2",
   "version": "2.7.6"
  }
 },
 "nbformat": 4,
 "nbformat_minor": 0
}
